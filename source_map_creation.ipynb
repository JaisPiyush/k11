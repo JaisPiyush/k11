{
 "cells": [
  {
   "cell_type": "code",
   "execution_count": 2,
   "metadata": {},
   "outputs": [],
   "source": [
    "from datetime import datetime\n",
    "from typing import Dict, List, Optional, Union\n",
    "from models.main import SourceMap, Format, ContentType, LinkStore\n",
    "\n",
    "from secrets import token_urlsafe\n",
    "import pandas as pd\n",
    "from urllib.parse import urlparse\n",
    "\n"
   ]
  },
  {
   "cell_type": "code",
   "execution_count": 3,
   "metadata": {},
   "outputs": [],
   "source": [
    "def create_map( name: str, home_link: str, formatter: str,links: List[Dict] = [], assumed_tags: str = '',\n",
    "                     compulsory_tags: List[str] = [], is_rss: bool = False, is_collection: bool = True,\n",
    "                     watermarks: List[str] = [], source_id: str = None, datetime_format: str=\"\", is_third_party: bool = False\n",
    "                      ):\n",
    "                      return SourceMap.adapter().create(source_name=name, source_home_link=home_link,\n",
    "                      source_id=token_urlsafe(16) + \"_\"+ name.lower() if source_id is None else source_id, \n",
    "                      formatter=formatter, assumed_tags=assumed_tags.strip(), links=links,\n",
    "                      compulsory_tags=compulsory_tags, is_collection=is_collection,\n",
    "                      is_rss=is_rss, watermarks=watermarks,\n",
    "                      datetime_format=datetime_format, is_third_party=is_third_party\n",
    "                      )"
   ]
  },
  {
   "cell_type": "code",
   "execution_count": 21,
   "metadata": {},
   "outputs": [],
   "source": [
    "def tag_formatter(tag:str) -> Union[str, None]:\n",
    "        return tag.replace(\"/\",\".\").replace(\" and \", \" \")"
   ]
  },
  {
   "cell_type": "code",
   "execution_count": 22,
   "metadata": {},
   "outputs": [],
   "source": [
    "def get_collection_selector(name, extras = [], defaults= {}):\n",
    "    _defaults = {\"sel\": \"xpath\", \"param\": \"text()\", \"type\": \"text\", \"parent\": name}\n",
    "    _defaults.update(defaults)\n",
    "    data = {}\n",
    "    for key in ['sel', 'param', 'parent', 'type'] + extras:\n",
    "        value = input(f\"Please enter {key} value for {name}: \")\n",
    "        if value == \"\" or value == \" \" and key in _defaults:\n",
    "            data[key] = _defaults[key]\n",
    "        else:\n",
    "            data[key] = value\n",
    "    return data\n"
   ]
  },
  {
   "cell_type": "code",
   "execution_count": 23,
   "metadata": {},
   "outputs": [],
   "source": [
    "def is_quit_param(txt):\n",
    "    return txt.lower() == \"q\" or txt == \"\" or txt == \" \" or txt.lower() == \"quit\""
   ]
  },
  {
   "cell_type": "code",
   "execution_count": 24,
   "metadata": {},
   "outputs": [],
   "source": [
    "def _create_collection_format():\n",
    "    data = {}\n",
    "    # is_xml = input('Enter x for xml_collection_format or h for html_collection_format: ').lower() == 'x'\n",
    "    itertag = input('Enter itertag for this selector: ')\n",
    "    if itertag != '' or itertag != \" \":\n",
    "        data['itertag'] = itertag\n",
    "    data['title'] = get_collection_selector('title')\n",
    "    data['link'] = get_collection_selector('link')\n",
    "    data['creator'] = get_collection_selector('creator')\n",
    "    while True:\n",
    "        sec_act = input(\"Enter name for new selector or type 'q' quit for exiting: \")\n",
    "        if is_quit_param(sec_act):\n",
    "            break\n",
    "        else:\n",
    "            data[sec_act] = get_collection_selector(sec_act)\n",
    "    return data\n",
    "\n",
    "\n"
   ]
  },
  {
   "cell_type": "code",
   "execution_count": 25,
   "metadata": {},
   "outputs": [],
   "source": [
    "def create_collection_format(name, format_):\n",
    "    data = _create_collection_format()\n",
    "    Format.adapter().update_one({\"format_id\": format_.format_id}, **{name:data})\n",
    "    setattr(format_, name, data)\n",
    "    return format_\n"
   ]
  },
  {
   "cell_type": "code",
   "execution_count": 26,
   "metadata": {},
   "outputs": [],
   "source": [
    "def get_container_identity():\n",
    "    data = {}\n",
    "    data['param'] = input(\"Enter param for container identity: \")\n",
    "    data['is_multiple'] = input(\"Is this identity for multiple items y/n: \").lower() == \"y\"\n",
    "    data['content_type'] = input('Enter content-type for the identity a for article, i for image, v for video: ')\n",
    "    cmap = {'a': 'article', 'i': 'image', 'v': 'video'}\n",
    "    data['content_type'] = cmap[data['content_type']] if data['content_type'] != \"\" else cmap['a']\n",
    "    data['is_bakeable'] = input('Is this identity contains multiple articles y/n: ').lower() == \"y\"\n",
    "    title_selectors = []\n",
    "    while True:\n",
    "        action = input('Enter title selector or \"q\" for quit: ')\n",
    "        if is_quit_param(action):\n",
    "            break\n",
    "        else:\n",
    "            title_selectors.append(action)\n",
    "    creator_selectors = []\n",
    "    while True:\n",
    "        action = input('Enter creator selector or \"q\" for quit: ')\n",
    "        if is_quit_param(action):\n",
    "            break\n",
    "        else:\n",
    "            creator_selectors.append(action)\n",
    "    body_selectors = []\n",
    "    while True:\n",
    "        action = input('Enter body selector or \"q\" for quit: ')\n",
    "        if is_quit_param(action):\n",
    "            break\n",
    "        else:\n",
    "            body_selectors.append(action)\n",
    "    return data, title_selectors, creator_selectors, body_selectors"
   ]
  },
  {
   "cell_type": "code",
   "execution_count": 27,
   "metadata": {},
   "outputs": [],
   "source": [
    "def get_query_selector():\n",
    "    data = {}\n",
    "    for key in ['tag', 'id', 'class_list', 'exact_class']:\n",
    "        value = input(f'Enter {key} for query: ')\n",
    "        if key == \"class_list\" and len(value) > 0:\n",
    "            data[key] = value.split(\" \")\n",
    "        elif len(value) > 0 and value != \" \":\n",
    "            data[key] = value\n",
    "    return data\n"
   ]
  },
  {
   "cell_type": "code",
   "execution_count": 28,
   "metadata": {},
   "outputs": [],
   "source": [
    "def _create_container_format():\n",
    "    data = {}\n",
    "    data['idens'] = []\n",
    "    data['title_selectors'] = []\n",
    "    data['creator_selectors'] = []\n",
    "    data['body_selectors'] = []\n",
    "    data['ignorables'] = []\n",
    "    while True:\n",
    "        action = input('Enter a for adding new identity, q for quit: ')\n",
    "        if is_quit_param(action):\n",
    "            break\n",
    "        iden, title_selectors, creator_selectors, body_selectors = get_container_identity()\n",
    "        data['title_selectors'] += title_selectors\n",
    "        data['creator_selectors'] += creator_selectors\n",
    "        data['body_selectors'] += body_selectors\n",
    "        while True:\n",
    "            action = input('Enter a for adding new ignorable, q for quit: ')\n",
    "            if is_quit_param(action):\n",
    "                break\n",
    "            else:\n",
    "                data['ignorables'].append(get_query_selector())\n",
    "        data['idens'].append(iden)\n",
    "    data['title_selectors'] = list(set(data['title_selectors']))\n",
    "    data['creator_selectors'] = list(set(data['creator_selectors']))\n",
    "    data['body_selectors'] = list(set(data['body_selectors']))\n",
    "    return data\n",
    "    \n",
    "\n"
   ]
  },
  {
   "cell_type": "code",
   "execution_count": 29,
   "metadata": {},
   "outputs": [],
   "source": [
    "def create_html_container_format(format_):\n",
    "    data = _create_container_format()\n",
    "    Format.adapter().update_one({\"format_id\": format_.format_id}, **{'html_article_format':data})\n",
    "    format_.html_article_format = data\n",
    "    return format_\n",
    "\n"
   ]
  },
  {
   "cell_type": "code",
   "execution_count": 30,
   "metadata": {},
   "outputs": [],
   "source": [
    "def create_extra_format(format_):\n",
    "    extra_format = {}\n",
    "    if hasattr(format_, \"extra_formats\") and format_.extra_formats is not None:\n",
    "        extra_format = format_.extra_formats\n",
    "    while True:\n",
    "        action = input('Enter c for adding new collection format and a for adding article format, q for quit: ')\n",
    "        if is_quit_param(action):\n",
    "            break\n",
    "        else:\n",
    "            name = input(\"Enter name for the format: \")\n",
    "            if is_quit_param(name):\n",
    "                break\n",
    "            if action.lower() == \"c\":\n",
    "                data = _create_collection_format()\n",
    "                extra_format[name] = data\n",
    "            elif action.lower() == \"a\":\n",
    "                data = _create_container_format()\n",
    "                extra_format[name] = data\n",
    "    Format.adapter().update_one({\"format_id\": format_.format_id}, **{\"extra_formats\": extra_format})\n",
    "    format_.extra_formats = extra_format\n",
    "    return format_\n",
    "\n",
    "                \n"
   ]
  },
  {
   "cell_type": "code",
   "execution_count": 31,
   "metadata": {},
   "outputs": [],
   "source": [
    "def create_xml_container_format(format_):\n",
    "    data = {}\n",
    "    ct = input('Enter content-type for format a for article, i for image, v for video: ')\n",
    "    cmap = {\"a\": \"article\", \"i\": \"image\", \"v\": \"video\"}\n",
    "    data['content_type'] = cmap[ct] if ct != \"\" or ct != \" \" else cmap['a']\n",
    "    data['struct']= _create_container_format()\n",
    "    Format.adapter().update_one({\"format_id\":format_.format_id}, **{\"xml_article_format\": data})\n",
    "    format_.xml_article_format = data\n",
    "    return format_\n"
   ]
  },
  {
   "cell_type": "code",
   "execution_count": 32,
   "metadata": {},
   "outputs": [],
   "source": [
    "def create_format( name: str, format_id: str, source_home_link: str,\n",
    "                            created_on= datetime.now()):\n",
    "                            return Format.adapter().create(source_name=name, format_id=format_id,\n",
    "                            source_home_link=source_home_link,\n",
    "                            created_on=created_on\n",
    "                            )"
   ]
  },
  {
   "cell_type": "code",
   "execution_count": 33,
   "metadata": {},
   "outputs": [],
   "source": [
    "def print_all_formats(format_):\n",
    "    keys = ['xml_collection_format', 'html_collection_format', 'html_article_format', 'xml_article_format']\n",
    "    format_keys= [] \n",
    "    for key in keys:\n",
    "        if hasattr(format_, key) and getattr(format_, key) is not None:\n",
    "            format_keys.append(key)\n",
    "    if hasattr(format_, \"extra_formats\") and format_.extra_formats is not None:\n",
    "        format_keys += list(format_.extra_formats.keys())\n",
    "    for index, key in enumerate(format_keys):\n",
    "        print(index, \". \", key,\"\\n\")\n",
    "    print(\"\\n\"*2)\n",
    "    return format_keys\n"
   ]
  },
  {
   "cell_type": "code",
   "execution_count": 34,
   "metadata": {},
   "outputs": [],
   "source": [
    "def interactive_format_prompt(source_name, source_id, source_home_link, formatter = None):\n",
    "    format_ = Format.adapter().find_one({\"format_id\": source_id}, silent=True)\n",
    "    if format_ is None:\n",
    "        format_ = create_format(source_name, source_id, source_home_link)\n",
    "    while True:\n",
    "        keys = print_all_formats(format_)\n",
    "        kmap = {'xml_collection_format': 'xc', 'html_collection_format': 'hc', 'html_article_format': 'ha', 'xml_article_format': 'xa', 'extra_formats': 'e'}\n",
    "        prompt = \"Please press \"\n",
    "        for key in kmap.keys():\n",
    "            if key not in keys:\n",
    "                prompt += f\"{kmap[key]} for {key}, \"\n",
    "        prompt +=\", 'q' for quit: \"\n",
    "        action = input(prompt)\n",
    "        if is_quit_param(action):\n",
    "            break\n",
    "        elif action.lower() == 'xc':\n",
    "            format_ = create_collection_format('xml_collection_format', format_)\n",
    "        elif action.lower() == 'hc':\n",
    "            format_ = create_collection_format('html_collection_format', format_)\n",
    "        elif action.lower() == 'ha':\n",
    "            format_ = create_html_container_format(format_)\n",
    "        elif action.lower() == 'xa':\n",
    "            format_ = create_xml_container_format(format_)\n",
    "        elif action.lower() == 'e':\n",
    "            format_ = create_extra_format(format_)\n",
    "    keys = print_all_formats(format_)\n",
    "    action = input(\"Enter index number for selecting the formatter, or q for quit: \")\n",
    "    ask_for_default_formatter = input('Do you want to set this formatter as default for source y/n: ').lower() == \"y\"\n",
    "    if ( not is_quit_param(action)) and action.isdigit():\n",
    "        formatter = keys[int(action)]        \n",
    "    return formatter, ask_for_default_formatter\n",
    "\n",
    "    \n",
    "    \n",
    "    \n",
    "    \n",
    "        \n",
    "\n",
    "    \n",
    "    \n"
   ]
  },
  {
   "cell_type": "code",
   "execution_count": null,
   "metadata": {},
   "outputs": [],
   "source": []
  },
  {
   "cell_type": "code",
   "execution_count": 35,
   "metadata": {},
   "outputs": [],
   "source": [
    "def _create_source_map(category, source_name, link, rss = 'FALSE'):\n",
    "    is_rss = rss is not None and len(rss) > 0 and rss != \"FALSE\"\n",
    "    url = rss if is_rss else link\n",
    "    assumed_tags=  tag_formatter(category)\n",
    "    compulsory_tags = input(\"Enter compulsory tags for \\n\" + url)\n",
    "    if compulsory_tags == \"q\":\n",
    "        return None\n",
    "    compulsory_tags = compulsory_tags.split(\" \")\n",
    "    watermarks = input(\"Enter watermarks for \\n\" + url).split(\" \")\n",
    "    url_parse = urlparse(url)\n",
    "    source_home_link = url_parse.scheme +\"://\" + url_parse.netloc\n",
    "    source_map = SourceMap.adapter().find_one({\"$and\": [{\"source_home_link\":  source_home_link}, {\"is_rss\": is_rss}]}, silent=True)\n",
    "\n",
    "    source_map_compulsory_tags = source_map.compulsory_tags if source_map is not None and           source_map.compulsory_tags is not None else []\n",
    "    source_map_assumed_tags = source_map.assumed_tags if source_map is not None and source_map.assumed_tags is not None else \"\"\n",
    "    source_map_assumed_tags += \" \" + assumed_tags\n",
    "    source_map_watermarks = source_map.watermarks if source_map is not None and source_map.watermarks is not None else []\n",
    "    source_map_watermarks += watermarks\n",
    "\n",
    "    if len(compulsory_tags) > 0:\n",
    "            compulsory_tags_action = input(\"Enter a for append, r for replace and l for leave: \")\n",
    "            if compulsory_tags_action.lower() == \"a\":\n",
    "                source_map_compulsory_tags += compulsory_tags\n",
    "                source_map_compulsory_tags = list(set(source_map_compulsory_tags))\n",
    "            elif compulsory_tags_action.lower() == \"r\":\n",
    "                source_map_compulsory_tags = compulsory_tags\n",
    "    if source_map is None:\n",
    "            is_collection = input(\"Is the source a collection y/n: \").lower() == \"y\"\n",
    "            source_map = create_map(name=source_name, source_id=token_urlsafe(16)+ \"_\" + source_name.lower(),\n",
    "                                        formatter=None,assumed_tags=source_map_assumed_tags, compulsory_tags=source_map_compulsory_tags,\n",
    "                                        home_link=source_home_link, watermarks=source_map_watermarks, is_rss=is_rss,is_collection=is_collection,            \n",
    "            )\n",
    "    formatter, is_update_default_formatter = interactive_format_prompt(source_map.source_name, source_map.source_id, source_map.source_home_link, formatter=source_map.formatter)\n",
    "    if is_update_default_formatter:\n",
    "        SourceMap.adapter().update_one({\"source_id\": source_map.source_id}, **{\"formatter\": formatter})\n",
    "        source_map.formatter = formatter\n",
    "    if source_map.links is None:\n",
    "        source_map.links = []\n",
    "    source_map.links.append(LinkStore(link=url, assumed_tags=assumed_tags,\n",
    "                                     compulsory_tags=compulsory_tags if len(compulsory_tags) == 0 else None,\n",
    "                                     formatter=formatter))\n",
    "    SourceMap.adapter().update_one({\"source_id\": source_map.source_id}, **{\"links\": [link.to_dict() for link in source_map.links]})\n",
    "    return source_map \n",
    "\n",
    "    \n",
    "    \n",
    "    "
   ]
  },
  {
   "cell_type": "code",
   "execution_count": 41,
   "metadata": {},
   "outputs": [],
   "source": [
    "category = \"hobbies__interests/arts__crafts/photography and technology__computing/consumer_electronics/camera\"\n",
    "source_name=\"iso_500px\"\n",
    "link = \"https://iso.500px.com/\"\n",
    "# rss=\"FALSE\"\n",
    "rss=\"https://iso.500px.com/feed/\"\n",
    "    "
   ]
  },
  {
   "cell_type": "code",
   "execution_count": 43,
   "metadata": {},
   "outputs": [
    {
     "output_type": "stream",
     "name": "stdout",
     "text": [
      "0 .  xml_collection_format \n",
      "\n",
      "\n",
      "\n",
      "\n",
      "0 .  xml_collection_format \n",
      "\n",
      "1 .  html_article_format \n",
      "\n",
      "\n",
      "\n",
      "\n",
      "0 .  xml_collection_format \n",
      "\n",
      "1 .  html_article_format \n",
      "\n",
      "\n",
      "\n",
      "\n"
     ]
    },
    {
     "output_type": "execute_result",
     "data": {
      "text/plain": [
       "SourceMap(source_name='iso_500px', source_id='jCdPRiPUH4HsMlq6s1GL5A_iso_500px', source_home_link='https://iso.500px.com', assumed_tags='hobbies__interests.arts__crafts.photography technology__computing.consumer_electronics.camera', compulsory_tags=['photography'], is_rss=True, is_collection=True, links=[LinkStore(link='https://iso.500px.com/feed/', assumed_tags='hobbies__interests.arts__crafts.photography technology__computing.consumer_electronics.camera', formatter='xml_collection_format', compulsory_tags=None), LinkStore(link='https://iso.500px.com/feed/', assumed_tags='hobbies__interests.arts__crafts.photography technology__computing.consumer_electronics.camera', formatter='xml_collection_format', compulsory_tags=None)], formatter='xml_collection_format', watermarks=['', ''], is_structured_aggregator=True, datetime_format='', is_third_party=False)"
      ]
     },
     "metadata": {},
     "execution_count": 43
    }
   ],
   "source": [
    "_create_source_map(category=category, source_name=source_name, link=link, rss=rss)"
   ]
  },
  {
   "cell_type": "code",
   "execution_count": null,
   "metadata": {},
   "outputs": [],
   "source": []
  }
 ],
 "metadata": {
  "kernelspec": {
   "name": "python385jvsc74a57bd0009e665c79fbfc8313dad4bf6cdcdc4549aaea5605537677d74b0784ff1d5538",
   "display_name": "Python 3.8.5 64-bit ('k11': venv)"
  },
  "metadata": {
   "interpreter": {
    "hash": "009e665c79fbfc8313dad4bf6cdcdc4549aaea5605537677d74b0784ff1d5538"
   }
  }
 },
 "nbformat": 4,
 "nbformat_minor": 4
}