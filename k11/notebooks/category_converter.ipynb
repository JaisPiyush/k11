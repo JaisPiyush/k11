{
 "cells": [
  {
   "cell_type": "code",
   "execution_count": 8,
   "metadata": {},
   "outputs": [],
   "source": [
    "import pandas as pd\n",
    "import numpy as np"
   ]
  },
  {
   "cell_type": "code",
   "execution_count": 9,
   "metadata": {},
   "outputs": [],
   "source": [
    "#data = pd.read_csv('categories.csv')"
   ]
  },
  {
   "cell_type": "code",
   "execution_count": 10,
   "metadata": {},
   "outputs": [],
   "source": [
    "#data.fillna(value='None')"
   ]
  },
  {
   "cell_type": "code",
   "execution_count": 11,
   "metadata": {},
   "outputs": [],
   "source": [
    "def trans(txt):\n",
    "    return txt.replace(\" and \",\"__\").replace(\" \",\"_\").replace(\",\",\"_\")"
   ]
  },
  {
   "cell_type": "code",
   "execution_count": 12,
   "metadata": {},
   "outputs": [],
   "source": [
    "# cats = []\n",
    "# for row in data.values:\n",
    "#     cat = []\n",
    "#     if str(row[0]) != 'nan':\n",
    "#         cat.append(row[0])\n",
    "#     if str(row[1]) != 'nan':\n",
    "#         cat.append(row[1])\n",
    "#     if str(row[2]) != 'nan':\n",
    "#         cat.append(row[2])\n",
    "#     if str(row[3]) != 'nan':\n",
    "#         cat.append(row[3])\n",
    "#     if str(row[4]) != 'nan':\n",
    "#         cat.append(row[4])\n",
    "#     if len(cat) > 0:\n",
    "#         cats.append(trans(\".\".join(cat)))"
   ]
  },
  {
   "cell_type": "code",
   "execution_count": 13,
   "metadata": {},
   "outputs": [],
   "source": [
    "# data.values[0]"
   ]
  },
  {
   "cell_type": "code",
   "execution_count": 14,
   "metadata": {},
   "outputs": [],
   "source": [
    "#cats"
   ]
  },
  {
   "cell_type": "code",
   "execution_count": 15,
   "metadata": {},
   "outputs": [],
   "source": [
    "from k11.discriminator.topic_manager import FrozenTopicInterface, Topics\n",
    "import os\n"
   ]
  },
  {
   "cell_type": "code",
   "execution_count": 16,
   "metadata": {},
   "outputs": [],
   "source": [
    "category = ['art__entertainment.humor',\n",
    " 'art__entertainment.movies__tv.movies__series_trailers',\n",
    " 'art__entertainment.celebrity_fan__gossip.bollywood',\n",
    " 'travel',\n",
    " 'society.relationship',\n",
    " 'technology__computing.tech_news',\n",
    " 'food__drink.cooking',\n",
    " 'food__drink.food',\n",
    " 'society.people.mens',\n",
    " 'hobbies__interests.arts__crafts.photography',\n",
    " 'technology__computing.consumer_electronics.camera__photo_equipments',\n",
    " 'society.life',\n",
    " 'technology__computing',\n",
    " 'art__entertainment.movies__tv.reviews__interviews',\n",
    " 'hobbies__interests.games',\n",
    " 'misc.facts',\n",
    " 'science.physics.space__astronomy',\n",
    " 'science',\n",
    " 'misc.weird',\n",
    " 'hobbies__interests.paranormal',\n",
    " 'misc.anomaly',\n",
    " 'misc.mystery',\n",
    " 'health__fitness',\n",
    " 'science.social_science.history',\n",
    " 'automotive__vehicle.cars.luxury_cars',\n",
    " 'style__fashion.womens',\n",
    " 'society.lifestyle',\n",
    " 'travel.adventure',\n",
    " 'health__fitness.mental_health',\n",
    " 'health__fitness.disorders',\n",
    " 'food__drink.healthy_eating',\n",
    " 'society.people',\n",
    " 'science.environment__nature',\n",
    " 'business__industrial.aerospace__defense.war_industry__technology',\n",
    " 'health__fitness.men_health',\n",
    " 'health__fitness.exercise']"
   ]
  },
  {
   "cell_type": "code",
   "execution_count": 17,
   "metadata": {},
   "outputs": [],
   "source": [
    "def furnish_cat(category):\n",
    "    new_cats = []\n",
    "    for cat in category:\n",
    "        splited = cat.split(\".\")\n",
    "        for index in range(len(splited)):\n",
    "            new_cats.append(\".\".join(splited[:index+1]))\n",
    "    return set(new_cats)"
   ]
  },
  {
   "cell_type": "code",
   "execution_count": 18,
   "metadata": {},
   "outputs": [],
   "source": [
    "cats = furnish_cat(category)"
   ]
  },
  {
   "cell_type": "code",
   "execution_count": 19,
   "metadata": {},
   "outputs": [
    {
     "output_type": "execute_result",
     "data": {
      "text/plain": [
       "52"
      ]
     },
     "metadata": {},
     "execution_count": 19
    }
   ],
   "source": [
    "len(cats)"
   ]
  },
  {
   "cell_type": "code",
   "execution_count": 27,
   "metadata": {},
   "outputs": [],
   "source": [
    "dir_name = os.getcwd()\n",
    "dir_name = \"/\".join((dir_name.split(\"/\")[:-1]))"
   ]
  },
  {
   "cell_type": "code",
   "execution_count": 28,
   "metadata": {},
   "outputs": [],
   "source": [
    "dir_name = os.path.join(dir_name, \"discriminator/bin\")"
   ]
  },
  {
   "cell_type": "code",
   "execution_count": 29,
   "metadata": {},
   "outputs": [],
   "source": [
    "topic_manager = FrozenTopicInterface()\n",
    "topic_manager.set_file_path(dir_name)"
   ]
  },
  {
   "cell_type": "code",
   "execution_count": 30,
   "metadata": {},
   "outputs": [],
   "source": [
    "topic_manager.topics = Topics()\n",
    "topic_manager.topics.names = cats\n",
    "topic_manager.commit()"
   ]
  },
  {
   "cell_type": "code",
   "execution_count": 31,
   "metadata": {},
   "outputs": [
    {
     "output_type": "execute_result",
     "data": {
      "text/plain": [
       "52"
      ]
     },
     "metadata": {},
     "execution_count": 31
    }
   ],
   "source": [
    "topic_manager.num_topics()"
   ]
  },
  {
   "cell_type": "code",
   "execution_count": 26,
   "metadata": {},
   "outputs": [],
   "source": []
  },
  {
   "cell_type": "code",
   "execution_count": 21,
   "metadata": {},
   "outputs": [
    {
     "output_type": "execute_result",
     "data": {
      "text/plain": [
       "'/home/jarden/Desktop/k11/container/k11/discriminator'"
      ]
     },
     "metadata": {},
     "execution_count": 21
    }
   ],
   "source": []
  },
  {
   "cell_type": "code",
   "execution_count": null,
   "metadata": {},
   "outputs": [],
   "source": []
  }
 ],
 "metadata": {
  "kernelspec": {
   "name": "python3",
   "display_name": "Python 3.9.5 64-bit ('k11': venv)"
  },
  "language_info": {
   "codemirror_mode": {
    "name": "ipython",
    "version": 3
   },
   "file_extension": ".py",
   "mimetype": "text/x-python",
   "name": "python",
   "nbconvert_exporter": "python",
   "pygments_lexer": "ipython3",
   "version": "3.9.5"
  },
  "interpreter": {
   "hash": "fc4695c84e85804780b8ca7c62fe67c8a064dcefa37282ea9ee686c285be0f98"
  }
 },
 "nbformat": 4,
 "nbformat_minor": 4
}