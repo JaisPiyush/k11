{
 "cells": [
  {
   "cell_type": "code",
   "execution_count": 30,
   "metadata": {},
   "outputs": [],
   "source": [
    "from k11.models.no_sql_models import SourceMap, Format"
   ]
  },
  {
   "cell_type": "code",
   "execution_count": 31,
   "metadata": {},
   "outputs": [],
   "source": [
    "import numpy as np \n",
    "import pandas as pd \n",
    "%matplotlib inline \n",
    "import matplotlib.pyplot as plt "
   ]
  },
  {
   "cell_type": "code",
   "execution_count": 32,
   "metadata": {},
   "outputs": [],
   "source": [
    "def tag_formatter(s: str) ->str:\n",
    "    return s.replace(\"/\", \".\")\n",
    "    "
   ]
  },
  {
   "cell_type": "code",
   "execution_count": 33,
   "metadata": {},
   "outputs": [],
   "source": [
    "def assumed_tag_formatter(s) -> list:\n",
    "    if isinstance(s, list):\n",
    "        s = list(filter(lambda x: x is not None and len(x) > 0, s))\n",
    "        s = \" \".join(s)\n",
    "    s = s.strip()\n",
    "    return list(filter(lambda x: len(x) > 0, set(tag_formatter(s).split(\" \"))))"
   ]
  },
  {
   "cell_type": "code",
   "execution_count": 34,
   "metadata": {},
   "outputs": [],
   "source": [
    "a = assumed_tag_formatter([\" art__entertainment.humor\", \"art__entertainment.celebrity_fan__gossip.bollywood art__entertainment.movies\"])\n",
    "b = assumed_tag_formatter([None, \"as\"])"
   ]
  },
  {
   "cell_type": "code",
   "execution_count": 35,
   "metadata": {},
   "outputs": [
    {
     "output_type": "stream",
     "name": "stdout",
     "text": [
      "['art__entertainment.movies', 'art__entertainment.humor', 'art__entertainment.celebrity_fan__gossip.bollywood'] ['as']\n"
     ]
    }
   ],
   "source": [
    "print(a,b)"
   ]
  },
  {
   "cell_type": "code",
   "execution_count": null,
   "metadata": {},
   "outputs": [],
   "source": []
  },
  {
   "cell_type": "code",
   "execution_count": 36,
   "metadata": {},
   "outputs": [],
   "source": [
    "def insert_link(array: list, source_map: SourceMap, link_store: LinkStore):\n",
    "    # print(assumed_tag_formatter([source_map.assumed_tags, link_store.assumed_tags]))\n",
    "    tags = assumed_tag_formatter([source_map.assumed_tags, link_store.assumed_tags])\n",
    "    array.append([source_map.source_id, source_map.source_name, \n",
    "    tags,\n",
    "    link_store.content_type, link_store.is_multiple, link_store.link   \n",
    "    ])\n",
    "    return array"
   ]
  },
  {
   "cell_type": "code",
   "execution_count": 37,
   "metadata": {},
   "outputs": [],
   "source": [
    "def create_frame():\n",
    "    source_maps: SourceMap = SourceMap.objects(is_third_party= False)\n",
    "    #[ source_id, source_name, assumed_tags, content_type, is_multiple, link, ]\n",
    "    array = []\n",
    "    for source_map in source_maps:\n",
    "        for link_store in source_map.links:\n",
    "            array = insert_link(array, source_map, link_store)\n",
    "            # print(array)\n",
    "    return pd.DataFrame(array, columns=['Source Id', 'Source Name', 'Assumed Tags', ' Content Type', 'Is Multiple', 'Link'])\n"
   ]
  },
  {
   "cell_type": "code",
   "execution_count": 38,
   "metadata": {
    "tags": []
   },
   "outputs": [],
   "source": [
    "df = create_frame()"
   ]
  },
  {
   "cell_type": "code",
   "execution_count": 39,
   "metadata": {},
   "outputs": [
    {
     "output_type": "execute_result",
     "data": {
      "text/plain": [
       "                           Source Id Source Name  \\\n",
       "0  WSTvVDLbD-5nbmqOxtkX3A_scoop_woop  Scoop Woop   \n",
       "1  WSTvVDLbD-5nbmqOxtkX3A_scoop_woop  Scoop Woop   \n",
       "2  WSTvVDLbD-5nbmqOxtkX3A_scoop_woop  Scoop Woop   \n",
       "3  WSTvVDLbD-5nbmqOxtkX3A_scoop_woop  Scoop Woop   \n",
       "4  WSTvVDLbD-5nbmqOxtkX3A_scoop_woop  Scoop Woop   \n",
       "5  WSTvVDLbD-5nbmqOxtkX3A_scoop_woop  Scoop Woop   \n",
       "6  WSTvVDLbD-5nbmqOxtkX3A_scoop_woop  Scoop Woop   \n",
       "7  WSTvVDLbD-5nbmqOxtkX3A_scoop_woop  Scoop Woop   \n",
       "8  WSTvVDLbD-5nbmqOxtkX3A_scoop_woop  Scoop Woop   \n",
       "9  WSTvVDLbD-5nbmqOxtkX3A_scoop_woop  Scoop Woop   \n",
       "\n",
       "                                        Assumed Tags  Content Type  \\\n",
       "0                         [art__entertainment.humor]       article   \n",
       "1  [art__entertainment.movies__tv.movies__series_...       article   \n",
       "2                 [travel, art__entertainment.humor]       article   \n",
       "3  [science.biology.zoology, art__entertainment.h...       article   \n",
       "4                 [sports, art__entertainment.humor]       article   \n",
       "5   [society.relationship, art__entertainment.humor]       article   \n",
       "6  [technology__computing.tech_news, art__enterta...       article   \n",
       "7  [food__drink.cooking, art__entertainment.humor...       article   \n",
       "8  [society.people.mens, society.culture, art__en...       article   \n",
       "9  [society.people.womens, society.culture, art__...       article   \n",
       "\n",
       "   Is Multiple                                               Link  \n",
       "0        False         https://www.scoopwhoop.com/category/humor/  \n",
       "1        False  https://www.scoopwhoop.com/category/entertainm...  \n",
       "2        False        https://www.scoopwhoop.com/category/travel/  \n",
       "3        False       https://www.scoopwhoop.com/category/animals/  \n",
       "4        False        https://www.scoopwhoop.com/category/sports/  \n",
       "5        False  https://www.scoopwhoop.com/category/relationsh...  \n",
       "6        False          https://www.scoopwhoop.com/category/tech/  \n",
       "7        False          https://www.scoopwhoop.com/category/food/  \n",
       "8        False           https://www.scoopwhoop.com/category/men/  \n",
       "9        False           https://www.scoopwhoop.com/category/men/  "
      ],
      "text/html": "<div>\n<style scoped>\n    .dataframe tbody tr th:only-of-type {\n        vertical-align: middle;\n    }\n\n    .dataframe tbody tr th {\n        vertical-align: top;\n    }\n\n    .dataframe thead th {\n        text-align: right;\n    }\n</style>\n<table border=\"1\" class=\"dataframe\">\n  <thead>\n    <tr style=\"text-align: right;\">\n      <th></th>\n      <th>Source Id</th>\n      <th>Source Name</th>\n      <th>Assumed Tags</th>\n      <th>Content Type</th>\n      <th>Is Multiple</th>\n      <th>Link</th>\n    </tr>\n  </thead>\n  <tbody>\n    <tr>\n      <th>0</th>\n      <td>WSTvVDLbD-5nbmqOxtkX3A_scoop_woop</td>\n      <td>Scoop Woop</td>\n      <td>[art__entertainment.humor]</td>\n      <td>article</td>\n      <td>False</td>\n      <td>https://www.scoopwhoop.com/category/humor/</td>\n    </tr>\n    <tr>\n      <th>1</th>\n      <td>WSTvVDLbD-5nbmqOxtkX3A_scoop_woop</td>\n      <td>Scoop Woop</td>\n      <td>[art__entertainment.movies__tv.movies__series_...</td>\n      <td>article</td>\n      <td>False</td>\n      <td>https://www.scoopwhoop.com/category/entertainm...</td>\n    </tr>\n    <tr>\n      <th>2</th>\n      <td>WSTvVDLbD-5nbmqOxtkX3A_scoop_woop</td>\n      <td>Scoop Woop</td>\n      <td>[travel, art__entertainment.humor]</td>\n      <td>article</td>\n      <td>False</td>\n      <td>https://www.scoopwhoop.com/category/travel/</td>\n    </tr>\n    <tr>\n      <th>3</th>\n      <td>WSTvVDLbD-5nbmqOxtkX3A_scoop_woop</td>\n      <td>Scoop Woop</td>\n      <td>[science.biology.zoology, art__entertainment.h...</td>\n      <td>article</td>\n      <td>False</td>\n      <td>https://www.scoopwhoop.com/category/animals/</td>\n    </tr>\n    <tr>\n      <th>4</th>\n      <td>WSTvVDLbD-5nbmqOxtkX3A_scoop_woop</td>\n      <td>Scoop Woop</td>\n      <td>[sports, art__entertainment.humor]</td>\n      <td>article</td>\n      <td>False</td>\n      <td>https://www.scoopwhoop.com/category/sports/</td>\n    </tr>\n    <tr>\n      <th>5</th>\n      <td>WSTvVDLbD-5nbmqOxtkX3A_scoop_woop</td>\n      <td>Scoop Woop</td>\n      <td>[society.relationship, art__entertainment.humor]</td>\n      <td>article</td>\n      <td>False</td>\n      <td>https://www.scoopwhoop.com/category/relationsh...</td>\n    </tr>\n    <tr>\n      <th>6</th>\n      <td>WSTvVDLbD-5nbmqOxtkX3A_scoop_woop</td>\n      <td>Scoop Woop</td>\n      <td>[technology__computing.tech_news, art__enterta...</td>\n      <td>article</td>\n      <td>False</td>\n      <td>https://www.scoopwhoop.com/category/tech/</td>\n    </tr>\n    <tr>\n      <th>7</th>\n      <td>WSTvVDLbD-5nbmqOxtkX3A_scoop_woop</td>\n      <td>Scoop Woop</td>\n      <td>[food__drink.cooking, art__entertainment.humor...</td>\n      <td>article</td>\n      <td>False</td>\n      <td>https://www.scoopwhoop.com/category/food/</td>\n    </tr>\n    <tr>\n      <th>8</th>\n      <td>WSTvVDLbD-5nbmqOxtkX3A_scoop_woop</td>\n      <td>Scoop Woop</td>\n      <td>[society.people.mens, society.culture, art__en...</td>\n      <td>article</td>\n      <td>False</td>\n      <td>https://www.scoopwhoop.com/category/men/</td>\n    </tr>\n    <tr>\n      <th>9</th>\n      <td>WSTvVDLbD-5nbmqOxtkX3A_scoop_woop</td>\n      <td>Scoop Woop</td>\n      <td>[society.people.womens, society.culture, art__...</td>\n      <td>article</td>\n      <td>False</td>\n      <td>https://www.scoopwhoop.com/category/men/</td>\n    </tr>\n  </tbody>\n</table>\n</div>"
     },
     "metadata": {},
     "execution_count": 39
    }
   ],
   "source": [
    "df.head(10)"
   ]
  },
  {
   "cell_type": "code",
   "execution_count": 40,
   "metadata": {},
   "outputs": [],
   "source": [
    "def insert_tag(counter: dict, tag:str, substr: bool = True):\n",
    "    if not substr:\n",
    "        if tag not in counter:\n",
    "            counter[tag] = 0\n",
    "        counter[tag] += 1\n",
    "        return counter\n",
    "    all_tags = tag.split(\".\")\n",
    "    for index in range(len(all_tags)):\n",
    "        t = \".\".join(all_tags[:index+1])\n",
    "        if t not in counter:\n",
    "            counter[t] = 0\n",
    "        counter[t] += 1\n",
    "    return counter"
   ]
  },
  {
   "cell_type": "code",
   "execution_count": 12,
   "metadata": {},
   "outputs": [],
   "source": []
  },
  {
   "cell_type": "code",
   "execution_count": 41,
   "metadata": {},
   "outputs": [
    {
     "output_type": "error",
     "ename": "NameError",
     "evalue": "name 'tags' is not defined",
     "traceback": [
      "\u001b[0;31m---------------------------------------------------------------------------\u001b[0m",
      "\u001b[0;31mNameError\u001b[0m                                 Traceback (most recent call last)",
      "\u001b[0;32m/tmp/ipykernel_7166/1406229432.py\u001b[0m in \u001b[0;36m<module>\u001b[0;34m\u001b[0m\n\u001b[0;32m----> 1\u001b[0;31m \u001b[0mtags\u001b[0m\u001b[0;34m[\u001b[0m\u001b[0;36m0\u001b[0m\u001b[0;34m:\u001b[0m\u001b[0;36m1\u001b[0m\u001b[0;34m]\u001b[0m\u001b[0;34m\u001b[0m\u001b[0;34m\u001b[0m\u001b[0m\n\u001b[0m",
      "\u001b[0;31mNameError\u001b[0m: name 'tags' is not defined"
     ]
    }
   ],
   "source": [
    "tags[0:1]"
   ]
  },
  {
   "cell_type": "code",
   "execution_count": 42,
   "metadata": {},
   "outputs": [
    {
     "output_type": "error",
     "ename": "NameError",
     "evalue": "name 'tags' is not defined",
     "traceback": [
      "\u001b[0;31m---------------------------------------------------------------------------\u001b[0m",
      "\u001b[0;31mNameError\u001b[0m                                 Traceback (most recent call last)",
      "\u001b[0;32m/tmp/ipykernel_7166/3303224390.py\u001b[0m in \u001b[0;36m<module>\u001b[0;34m\u001b[0m\n\u001b[0;32m----> 1\u001b[0;31m \u001b[0;32mfor\u001b[0m \u001b[0mindex\u001b[0m \u001b[0;32min\u001b[0m \u001b[0mrange\u001b[0m\u001b[0;34m(\u001b[0m\u001b[0mlen\u001b[0m\u001b[0;34m(\u001b[0m\u001b[0mtags\u001b[0m\u001b[0;34m)\u001b[0m\u001b[0;34m)\u001b[0m\u001b[0;34m:\u001b[0m\u001b[0;34m\u001b[0m\u001b[0;34m\u001b[0m\u001b[0m\n\u001b[0m\u001b[1;32m      2\u001b[0m     \u001b[0mt\u001b[0m \u001b[0;34m=\u001b[0m \u001b[0;34m\".\"\u001b[0m\u001b[0;34m.\u001b[0m\u001b[0mjoin\u001b[0m\u001b[0;34m(\u001b[0m\u001b[0mtags\u001b[0m\u001b[0;34m[\u001b[0m\u001b[0;34m:\u001b[0m\u001b[0mindex\u001b[0m\u001b[0;34m+\u001b[0m\u001b[0;36m1\u001b[0m\u001b[0;34m]\u001b[0m\u001b[0;34m)\u001b[0m\u001b[0;34m\u001b[0m\u001b[0;34m\u001b[0m\u001b[0m\n\u001b[1;32m      3\u001b[0m     \u001b[0mprint\u001b[0m\u001b[0;34m(\u001b[0m\u001b[0mt\u001b[0m\u001b[0;34m)\u001b[0m\u001b[0;34m\u001b[0m\u001b[0;34m\u001b[0m\u001b[0m\n",
      "\u001b[0;31mNameError\u001b[0m: name 'tags' is not defined"
     ]
    }
   ],
   "source": [
    "for index in range(len(tags)):\n",
    "    t = \".\".join(tags[:index+1])\n",
    "    print(t)"
   ]
  },
  {
   "cell_type": "code",
   "execution_count": null,
   "metadata": {},
   "outputs": [],
   "source": []
  },
  {
   "cell_type": "code",
   "execution_count": 43,
   "metadata": {},
   "outputs": [],
   "source": [
    "def tags_count(substr=True):\n",
    "    tag_couter = {}\n",
    "    for tag_list in df[\"Assumed Tags\"].values:\n",
    "        for tag in tag_list:\n",
    "            tag_couter = insert_tag(tag_couter, tag, substr=substr)\n",
    "    return tag_couter\n"
   ]
  },
  {
   "cell_type": "code",
   "execution_count": 44,
   "metadata": {},
   "outputs": [],
   "source": [
    "tag_counter = tags_count()"
   ]
  },
  {
   "cell_type": "code",
   "execution_count": 45,
   "metadata": {},
   "outputs": [],
   "source": [
    "tag_counter_dirty = tags_count(substr=False)"
   ]
  },
  {
   "cell_type": "code",
   "execution_count": 46,
   "metadata": {},
   "outputs": [
    {
     "output_type": "stream",
     "name": "stdout",
     "text": [
      "society.people.womens : 1\ntechnology__computing.consumer_electronics.games__console : 1\ntechnology__computing.hardware.computer : 1\ntechnology__computing.operating_systems : 1\ntechnology__computing.consumer_electronics : 1\ntechnology__computing.hardware : 1\ntechnology__computing.internet_technology : 1\ntechnology__computing.gaming : 1\nsociety.welfare.social_service : 1\nstyle__fashion.clothing : 1\nart__entertainment.celebrity_fan__gossip : 1\nscience.enviroment : 1\nstyle__fashion.fashion_designers : 1\nstyle__fashion.jewelery : 1\nsociety.life.inspiraion : 1\nsociety.life.happiness : 1\nstyle__fashion.celebs : 1\nscience.physics : 1\nbusiness__industrial.agriculture__forestry : 1\nscience.biology.botany : 1\ntechnology__computing.consumer_electronics.game_systems__consoles : 1\nhobbies__interests.games.video__computer_games : 1\nscience.physics.atomic_physics : 1\nbusiness__industrial.aerospace__defence.space_tehnology : 1\nautomotive__vehicles : 1\nbusiness__industrial.business_news : 1\nfinance : 1\nbusiness__industrial.hospitality_industry.event_planning : 1\nsociety.social_institution.marriage : 1\npets : 1\nscience.environment__nature.flora__fauna : 1\nart__entertainment.celebrity_fan__gossip.hollywood : 1\ncareers.advice__job : 1\nsociety.work : 1\nart__entertainment : 2\ntechnology__computing.operating_systems.android : 2\ntechnology__computing.consumer_electronics.smartphones.android : 2\nhobbies__interests.arts__crafts : 2\nautomotive__vehicles.cars.luxury_cars : 2\nreligion__spirituality : 2\nfood__drink.vegan__vegetarian : 2\nscience.biology.zoology : 3\nsports : 3\nsociety.crime.sex_offense : 3\nfood__drink.food_allergy : 3\nstyle__fashion.accessories : 3\nautomotive__vehicles.cars : 3\ntechnology__computing.software.graphics__music__animations : 3\nsociety.sex : 3\nfinance.personal_finance__investing : 3\nmisc : 4\nfood__drink : 4\nstyle__fashion.footwear : 4\neducation.art_history : 4\nart__entertainment.visual_art__design.painting__sketching : 4\nbusiness__industrial.business__operations.startups : 4\nbusiness__industrial.aerospace__defence : 4\ncareers : 4\nsociety.culture : 5\nstyle__fashion : 5\nstyle__fashion.beauty : 5\nsociety : 5\nstyle__fashion.mens : 5\ntechnology__computing : 6\nscience.environment__nature : 6\ntravel.adventure : 7\nhealth__fitness.disorders : 7\nsociety.people : 7\nfood__drink.cooking : 8\nart__entertainment.movies__tv.reviews__interviews : 9\nscience.social_science.history : 9\nhealth__fitness.men_health : 9\nhealth__fitness.exercise : 9\n"
     ]
    }
   ],
   "source": [
    "sorted_counter = sorted(tag_counter_dirty, key= lambda x: tag_counter_dirty[x])\n",
    "print(\"\\n\".join([f'{key} : {tag_counter_dirty[key]}' for key in sorted_counter if tag_counter_dirty[key] < 10]))"
   ]
  },
  {
   "cell_type": "code",
   "execution_count": 52,
   "metadata": {},
   "outputs": [],
   "source": [
    "threshold = 6\n",
    "filtered = [key for key,value in tag_counter_dirty.items() if value >= threshold]"
   ]
  },
  {
   "cell_type": "code",
   "execution_count": 55,
   "metadata": {},
   "outputs": [
    {
     "output_type": "execute_result",
     "data": {
      "text/plain": [
       "['art__entertainment.humor',\n",
       " 'art__entertainment.movies__tv.movies__series_trailers',\n",
       " 'art__entertainment.celebrity_fan__gossip.bollywood',\n",
       " 'travel',\n",
       " 'society.relationship',\n",
       " 'technology__computing.tech_news',\n",
       " 'food__drink.cooking',\n",
       " 'food__drink.food',\n",
       " 'society.people.mens',\n",
       " 'hobbies__interests.arts__crafts.photography',\n",
       " 'technology__computing.consumer_electronics.camera__photo_equipments',\n",
       " 'society.life',\n",
       " 'art__entertainment.movies__tv',\n",
       " 'technology__computing',\n",
       " 'art__entertainment.movies__tv.reviews__interviews',\n",
       " 'hobbies__interests.games',\n",
       " 'misc.facts',\n",
       " 'science.physics.space__astronomy',\n",
       " 'science',\n",
       " 'misc.weird',\n",
       " 'hobbies__interests.paranormal',\n",
       " 'misc.anomaly',\n",
       " 'misc.mystery',\n",
       " 'health__fitness',\n",
       " 'science.social_science.history',\n",
       " 'automotive__vehicle.cars.luxury_cars',\n",
       " 'style__fashion.womens',\n",
       " 'society.lifestyle',\n",
       " 'travel.adventure',\n",
       " 'health__fitness.mental_health',\n",
       " 'health__fitness.disorders',\n",
       " 'food__drink.healthy_eating',\n",
       " 'society.people',\n",
       " 'science.environment__nature',\n",
       " 'business__industrial.aerospace__defense.war_industry__technology',\n",
       " 'art__emtertainment.celebrity_fan__gossip',\n",
       " 'health__fitness.men_health',\n",
       " 'health__fitness.exercise']"
      ]
     },
     "metadata": {},
     "execution_count": 55
    }
   ],
   "source": [
    "filtered"
   ]
  },
  {
   "cell_type": "code",
   "execution_count": 192,
   "metadata": {},
   "outputs": [],
   "source": [
    "def plot_map(counter: dict):\n",
    "    names = list(counter.keys())\n",
    "    values = list(counter.values())\n",
    "    fig = plt.figure(figsize=(100,100))\n",
    "    plt.barh(names, values, height=0.8)\n",
    "    for index, value in enumerate(values):\n",
    "        plt.text(value, index, str(value))\n",
    "    plt.show()"
   ]
  },
  {
   "cell_type": "code",
   "execution_count": null,
   "metadata": {},
   "outputs": [],
   "source": []
  },
  {
   "cell_type": "code",
   "execution_count": 193,
   "metadata": {},
   "outputs": [
    {
     "output_type": "stream",
     "name": "stdout",
     "text": [
      "['wkfG9nK7n7HdZ4ALSghb_Q_luxury lifestyle mag' 'Luxury Lifestyle Mag'\n list(['automotive__vehicle.cars.luxury_cars']) 'article' False\n 'https://www.luxurylifestylemag.co.uk/tag/luxury-cars/feed/']\n['j2wVILgTZ6O5bXwmDWPMAQ_pinterest' 'Pinterest'\n list(['automotive__vehicle.cars.luxury_cars']) 'article' True\n 'https://in.pinterest.com/noorhazin/luxury-cars.rss']\n['j2wVILgTZ6O5bXwmDWPMAQ_pinterest' 'Pinterest'\n list(['automotive__vehicle.cars.luxury_cars', 'style__fashion.fashion_designers', 'style__fashion.womens'])\n 'article' True 'https://in.pinterest.com/gmunglani/indian-fashion.']\n['j2wVILgTZ6O5bXwmDWPMAQ_pinterest' 'Pinterest'\n list(['automotive__vehicle.cars.luxury_cars', 'style__fashion.jewelery', 'style__fashion.womens'])\n 'article' True 'https://in.pinterest.com/gmunglani/jewellery.rss']\n['j2wVILgTZ6O5bXwmDWPMAQ_pinterest' 'Pinterest'\n list(['automotive__vehicle.cars.luxury_cars', 'automotive__vehicles.cars.luxury_cars'])\n 'image' True 'https://in.pinterest.com/VardaiDesign/supercar.rss']\n['j2wVILgTZ6O5bXwmDWPMAQ_pinterest' 'Pinterest'\n list(['automotive__vehicle.cars.luxury_cars', 'automotive__vehicles.cars.luxury_cars'])\n 'image' True 'https://in.pinterest.com/grahammylett/supercars.rss']\n['j2wVILgTZ6O5bXwmDWPMAQ_pinterest' 'Pinterest'\n list(['automotive__vehicle.cars.luxury_cars', 'science.physics.space__astronomy'])\n 'image' True\n 'https://in.pinterest.com/nonstopdiys/space-and-astronomy.rss']\n['j2wVILgTZ6O5bXwmDWPMAQ_pinterest' 'Pinterest'\n list(['automotive__vehicle.cars.luxury_cars', 'society.life', 'travel.adventure', 'society.lifestyle', 'travel'])\n 'image' True 'https://in.pinterest.com/carajourdan/travel.rss']\n['j2wVILgTZ6O5bXwmDWPMAQ_pinterest' 'Pinterest'\n list(['automotive__vehicle.cars.luxury_cars', 'food__drink.food'])\n 'image' True 'https://in.pinterest.com/loveableeve/indian-food-.rss']\n['j2wVILgTZ6O5bXwmDWPMAQ_pinterest' 'Pinterest'\n list(['automotive__vehicle.cars.luxury_cars', 'food__drink.food'])\n 'image' True\n 'https://in.pinterest.com/whiskaffair/indian-food-recipes.rss']\n['j2wVILgTZ6O5bXwmDWPMAQ_pinterest' 'Pinterest'\n list(['automotive__vehicle.cars.luxury_cars', 'food__drink.food'])\n 'image' True 'https://in.pinterest.com/shwetaindkitchn/indian-food.rss']\n['zKEXrXjVkp48a4SNAWc9AQ_the supercar blog' 'The SuperCar Blog'\n list(['automotive__vehicle.cars.luxury_cars']) 'article' False\n 'https://www.thesupercarblog.com/feed/']\n"
     ]
    }
   ],
   "source": [
    "tag = \"automotive__vehicle.cars.luxury_cars\"\n",
    "for value in df.values:\n",
    "    if  tag in value[2]:\n",
    "        print(value)"
   ]
  },
  {
   "cell_type": "code",
   "execution_count": null,
   "metadata": {},
   "outputs": [],
   "source": []
  },
  {
   "cell_type": "code",
   "execution_count": null,
   "metadata": {},
   "outputs": [],
   "source": []
  }
 ],
 "metadata": {
  "kernelspec": {
   "name": "python39564bit29448e0557d14d62a3c382fd631c0869",
   "display_name": "Python 3.9.5 64-bit",
   "language": "python"
  },
  "interpreter": {
   "hash": "009e665c79fbfc8313dad4bf6cdcdc4549aaea5605537677d74b0784ff1d5538"
  }
 },
 "nbformat": 4,
 "nbformat_minor": 4
}