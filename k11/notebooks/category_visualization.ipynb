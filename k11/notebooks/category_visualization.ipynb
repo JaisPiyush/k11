{
 "cells": [
  {
   "cell_type": "code",
   "execution_count": 12,
   "source": [
    "from k11.models.no_sql_models import SourceMap, Format\n",
    "from k11.models import LinkStore\n",
    "\n",
    "from k11.vault import connection_handler"
   ],
   "outputs": [],
   "metadata": {}
  },
  {
   "cell_type": "code",
   "execution_count": 3,
   "source": [
    "import numpy as np \n",
    "import pandas as pd \n",
    "%matplotlib inline \n",
    "import matplotlib.pyplot as plt "
   ],
   "outputs": [],
   "metadata": {}
  },
  {
   "cell_type": "code",
   "execution_count": 4,
   "source": [
    "def tag_formatter(s: str) ->str:\n",
    "    return s.replace(\"/\", \".\")\n",
    "    "
   ],
   "outputs": [],
   "metadata": {}
  },
  {
   "cell_type": "code",
   "execution_count": 5,
   "source": [
    "def assumed_tag_formatter(s) -> list:\n",
    "    if isinstance(s, list):\n",
    "        s = list(filter(lambda x: x is not None and len(x) > 0, s))\n",
    "        s = \" \".join(s)\n",
    "    s = s.strip()\n",
    "    return list(filter(lambda x: len(x) > 0, set(tag_formatter(s).split(\" \"))))"
   ],
   "outputs": [],
   "metadata": {}
  },
  {
   "cell_type": "code",
   "execution_count": 6,
   "source": [
    "a = assumed_tag_formatter([\" art__entertainment.humor\", \"art__entertainment.celebrity_fan__gossip.bollywood art__entertainment.movies\"])\n",
    "b = assumed_tag_formatter([None, \"as\"])"
   ],
   "outputs": [],
   "metadata": {}
  },
  {
   "cell_type": "code",
   "execution_count": 7,
   "source": [
    "print(a,b)"
   ],
   "outputs": [
    {
     "output_type": "stream",
     "name": "stdout",
     "text": [
      "['art__entertainment.movies', 'art__entertainment.humor', 'art__entertainment.celebrity_fan__gossip.bollywood'] ['as']\n"
     ]
    }
   ],
   "metadata": {}
  },
  {
   "cell_type": "code",
   "execution_count": null,
   "source": [],
   "outputs": [],
   "metadata": {}
  },
  {
   "cell_type": "code",
   "execution_count": 9,
   "source": [
    "def insert_link(array: list, source_map: SourceMap, link_store: LinkStore):\n",
    "    # print(assumed_tag_formatter([source_map.assumed_tags, link_store.assumed_tags]))\n",
    "    tags = assumed_tag_formatter([source_map.assumed_tags, link_store.assumed_tags])\n",
    "    array.append([source_map.source_id, source_map.source_name, \n",
    "    tags,\n",
    "    link_store.content_type, link_store.is_multiple, link_store.link   \n",
    "    ])\n",
    "    return array"
   ],
   "outputs": [],
   "metadata": {}
  },
  {
   "cell_type": "code",
   "execution_count": 23,
   "source": [
    "def create_frame():\n",
    "    connection_handler.mount_mongo_engines()\n",
    "    source_maps: SourceMap = SourceMap.objects(is_third_party= False)\n",
    "    #[ source_id, source_name, assumed_tags, content_type, is_multiple, link, ]\n",
    "    array = []\n",
    "    for source_map in source_maps:\n",
    "        for link_store in source_map.links:\n",
    "            array = insert_link(array, source_map, link_store)\n",
    "            # print(array)\n",
    "    connection_handler.disconnect_mongo_engines()\n",
    "    return pd.DataFrame(array, columns=['Source Id', 'Source Name', 'Assumed Tags', ' Content Type', 'Is Multiple', 'Link'])\n"
   ],
   "outputs": [],
   "metadata": {}
  },
  {
   "cell_type": "code",
   "execution_count": null,
   "source": [],
   "outputs": [],
   "metadata": {}
  },
  {
   "cell_type": "code",
   "execution_count": 24,
   "source": [
    "df = create_frame()"
   ],
   "outputs": [],
   "metadata": {
    "tags": []
   }
  },
  {
   "cell_type": "code",
   "execution_count": 25,
   "source": [
    "df.head(10)"
   ],
   "outputs": [
    {
     "output_type": "execute_result",
     "data": {
      "text/plain": [
       "                           Source Id Source Name  \\\n",
       "0  WSTvVDLbD-5nbmqOxtkX3A_scoop_woop  Scoop Woop   \n",
       "1  WSTvVDLbD-5nbmqOxtkX3A_scoop_woop  Scoop Woop   \n",
       "2  WSTvVDLbD-5nbmqOxtkX3A_scoop_woop  Scoop Woop   \n",
       "3  WSTvVDLbD-5nbmqOxtkX3A_scoop_woop  Scoop Woop   \n",
       "4  WSTvVDLbD-5nbmqOxtkX3A_scoop_woop  Scoop Woop   \n",
       "5  WSTvVDLbD-5nbmqOxtkX3A_scoop_woop  Scoop Woop   \n",
       "6  WSTvVDLbD-5nbmqOxtkX3A_scoop_woop  Scoop Woop   \n",
       "7  WSTvVDLbD-5nbmqOxtkX3A_scoop_woop  Scoop Woop   \n",
       "8  WSTvVDLbD-5nbmqOxtkX3A_scoop_woop  Scoop Woop   \n",
       "9  WSTvVDLbD-5nbmqOxtkX3A_scoop_woop  Scoop Woop   \n",
       "\n",
       "                                        Assumed Tags  Content Type  \\\n",
       "0                         [art__entertainment.humor]       article   \n",
       "1  [art__entertainment.humor, art__entertainment....       article   \n",
       "2                 [art__entertainment.humor, travel]       article   \n",
       "3  [art__entertainment.humor, science.biology.zoo...       article   \n",
       "4                 [sports, art__entertainment.humor]       article   \n",
       "5   [art__entertainment.humor, society.relationship]       article   \n",
       "6  [art__entertainment.humor, technology__computi...       article   \n",
       "7  [art__entertainment.humor, food__drink.cooking...       article   \n",
       "8  [society.culture, art__entertainment.humor, so...       article   \n",
       "9  [society.people.womens, art__entertainment.hum...       article   \n",
       "\n",
       "   Is Multiple                                               Link  \n",
       "0        False         https://www.scoopwhoop.com/category/humor/  \n",
       "1        False  https://www.scoopwhoop.com/category/entertainm...  \n",
       "2        False        https://www.scoopwhoop.com/category/travel/  \n",
       "3        False       https://www.scoopwhoop.com/category/animals/  \n",
       "4        False        https://www.scoopwhoop.com/category/sports/  \n",
       "5        False  https://www.scoopwhoop.com/category/relationsh...  \n",
       "6        False          https://www.scoopwhoop.com/category/tech/  \n",
       "7        False          https://www.scoopwhoop.com/category/food/  \n",
       "8        False           https://www.scoopwhoop.com/category/men/  \n",
       "9        False           https://www.scoopwhoop.com/category/men/  "
      ],
      "text/html": [
       "<div>\n",
       "<style scoped>\n",
       "    .dataframe tbody tr th:only-of-type {\n",
       "        vertical-align: middle;\n",
       "    }\n",
       "\n",
       "    .dataframe tbody tr th {\n",
       "        vertical-align: top;\n",
       "    }\n",
       "\n",
       "    .dataframe thead th {\n",
       "        text-align: right;\n",
       "    }\n",
       "</style>\n",
       "<table border=\"1\" class=\"dataframe\">\n",
       "  <thead>\n",
       "    <tr style=\"text-align: right;\">\n",
       "      <th></th>\n",
       "      <th>Source Id</th>\n",
       "      <th>Source Name</th>\n",
       "      <th>Assumed Tags</th>\n",
       "      <th>Content Type</th>\n",
       "      <th>Is Multiple</th>\n",
       "      <th>Link</th>\n",
       "    </tr>\n",
       "  </thead>\n",
       "  <tbody>\n",
       "    <tr>\n",
       "      <th>0</th>\n",
       "      <td>WSTvVDLbD-5nbmqOxtkX3A_scoop_woop</td>\n",
       "      <td>Scoop Woop</td>\n",
       "      <td>[art__entertainment.humor]</td>\n",
       "      <td>article</td>\n",
       "      <td>False</td>\n",
       "      <td>https://www.scoopwhoop.com/category/humor/</td>\n",
       "    </tr>\n",
       "    <tr>\n",
       "      <th>1</th>\n",
       "      <td>WSTvVDLbD-5nbmqOxtkX3A_scoop_woop</td>\n",
       "      <td>Scoop Woop</td>\n",
       "      <td>[art__entertainment.humor, art__entertainment....</td>\n",
       "      <td>article</td>\n",
       "      <td>False</td>\n",
       "      <td>https://www.scoopwhoop.com/category/entertainm...</td>\n",
       "    </tr>\n",
       "    <tr>\n",
       "      <th>2</th>\n",
       "      <td>WSTvVDLbD-5nbmqOxtkX3A_scoop_woop</td>\n",
       "      <td>Scoop Woop</td>\n",
       "      <td>[art__entertainment.humor, travel]</td>\n",
       "      <td>article</td>\n",
       "      <td>False</td>\n",
       "      <td>https://www.scoopwhoop.com/category/travel/</td>\n",
       "    </tr>\n",
       "    <tr>\n",
       "      <th>3</th>\n",
       "      <td>WSTvVDLbD-5nbmqOxtkX3A_scoop_woop</td>\n",
       "      <td>Scoop Woop</td>\n",
       "      <td>[art__entertainment.humor, science.biology.zoo...</td>\n",
       "      <td>article</td>\n",
       "      <td>False</td>\n",
       "      <td>https://www.scoopwhoop.com/category/animals/</td>\n",
       "    </tr>\n",
       "    <tr>\n",
       "      <th>4</th>\n",
       "      <td>WSTvVDLbD-5nbmqOxtkX3A_scoop_woop</td>\n",
       "      <td>Scoop Woop</td>\n",
       "      <td>[sports, art__entertainment.humor]</td>\n",
       "      <td>article</td>\n",
       "      <td>False</td>\n",
       "      <td>https://www.scoopwhoop.com/category/sports/</td>\n",
       "    </tr>\n",
       "    <tr>\n",
       "      <th>5</th>\n",
       "      <td>WSTvVDLbD-5nbmqOxtkX3A_scoop_woop</td>\n",
       "      <td>Scoop Woop</td>\n",
       "      <td>[art__entertainment.humor, society.relationship]</td>\n",
       "      <td>article</td>\n",
       "      <td>False</td>\n",
       "      <td>https://www.scoopwhoop.com/category/relationsh...</td>\n",
       "    </tr>\n",
       "    <tr>\n",
       "      <th>6</th>\n",
       "      <td>WSTvVDLbD-5nbmqOxtkX3A_scoop_woop</td>\n",
       "      <td>Scoop Woop</td>\n",
       "      <td>[art__entertainment.humor, technology__computi...</td>\n",
       "      <td>article</td>\n",
       "      <td>False</td>\n",
       "      <td>https://www.scoopwhoop.com/category/tech/</td>\n",
       "    </tr>\n",
       "    <tr>\n",
       "      <th>7</th>\n",
       "      <td>WSTvVDLbD-5nbmqOxtkX3A_scoop_woop</td>\n",
       "      <td>Scoop Woop</td>\n",
       "      <td>[art__entertainment.humor, food__drink.cooking...</td>\n",
       "      <td>article</td>\n",
       "      <td>False</td>\n",
       "      <td>https://www.scoopwhoop.com/category/food/</td>\n",
       "    </tr>\n",
       "    <tr>\n",
       "      <th>8</th>\n",
       "      <td>WSTvVDLbD-5nbmqOxtkX3A_scoop_woop</td>\n",
       "      <td>Scoop Woop</td>\n",
       "      <td>[society.culture, art__entertainment.humor, so...</td>\n",
       "      <td>article</td>\n",
       "      <td>False</td>\n",
       "      <td>https://www.scoopwhoop.com/category/men/</td>\n",
       "    </tr>\n",
       "    <tr>\n",
       "      <th>9</th>\n",
       "      <td>WSTvVDLbD-5nbmqOxtkX3A_scoop_woop</td>\n",
       "      <td>Scoop Woop</td>\n",
       "      <td>[society.people.womens, art__entertainment.hum...</td>\n",
       "      <td>article</td>\n",
       "      <td>False</td>\n",
       "      <td>https://www.scoopwhoop.com/category/men/</td>\n",
       "    </tr>\n",
       "  </tbody>\n",
       "</table>\n",
       "</div>"
      ]
     },
     "metadata": {},
     "execution_count": 25
    }
   ],
   "metadata": {}
  },
  {
   "cell_type": "code",
   "execution_count": 26,
   "source": [
    "def insert_tag(counter: dict, tag:str, substr: bool = True):\n",
    "    if not substr:\n",
    "        if tag not in counter:\n",
    "            counter[tag] = 0\n",
    "        counter[tag] += 1\n",
    "        return counter\n",
    "    all_tags = tag.split(\".\")\n",
    "    for index in range(len(all_tags)):\n",
    "        t = \".\".join(all_tags[:index+1])\n",
    "        if t not in counter:\n",
    "            counter[t] = 0\n",
    "        counter[t] += 1\n",
    "    return counter"
   ],
   "outputs": [],
   "metadata": {}
  },
  {
   "cell_type": "code",
   "execution_count": 12,
   "source": [],
   "outputs": [],
   "metadata": {}
  },
  {
   "cell_type": "code",
   "execution_count": null,
   "source": [],
   "outputs": [],
   "metadata": {}
  },
  {
   "cell_type": "code",
   "execution_count": null,
   "source": [],
   "outputs": [],
   "metadata": {}
  },
  {
   "cell_type": "code",
   "execution_count": 27,
   "source": [
    "def tags_count(substr=True):\n",
    "    tag_couter = {}\n",
    "    for tag_list in df[\"Assumed Tags\"].values:\n",
    "        for tag in tag_list:\n",
    "            tag_couter = insert_tag(tag_couter, tag, substr=substr)\n",
    "    return tag_couter\n"
   ],
   "outputs": [],
   "metadata": {}
  },
  {
   "cell_type": "code",
   "execution_count": 28,
   "source": [
    "tag_counter = tags_count()"
   ],
   "outputs": [],
   "metadata": {}
  },
  {
   "cell_type": "code",
   "execution_count": 29,
   "source": [
    "tag_counter_dirty = tags_count(substr=False)"
   ],
   "outputs": [],
   "metadata": {}
  },
  {
   "cell_type": "code",
   "execution_count": 30,
   "source": [
    "sorted_counter = sorted(tag_counter_dirty, key= lambda x: tag_counter_dirty[x])\n",
    "print(\"\\n\".join([f'{key} : {tag_counter_dirty[key]}' for key in sorted_counter if tag_counter_dirty[key] < 10]))"
   ],
   "outputs": [
    {
     "output_type": "stream",
     "name": "stdout",
     "text": [
      "society.people.womens : 1\n",
      "technology__computing.consumer_electronics.games__console : 1\n",
      "technology__computing.hardware.computer : 1\n",
      "technology__computing.consumer_electronics : 1\n",
      "technology__computing.internet_technology : 1\n",
      "technology__computing.operating_systems : 1\n",
      "technology__computing.gaming : 1\n",
      "technology__computing.hardware : 1\n",
      "society.welfare.social_service : 1\n",
      "art__entertainment.celebrity_fan__gossip : 1\n",
      "style__fashion.clothing : 1\n",
      "science.enviroment : 1\n",
      "style__fashion.fashion_designers : 1\n",
      "style__fashion.jewelery : 1\n",
      "society.life.inspiraion : 1\n",
      "society.life.happiness : 1\n",
      "style__fashion.celebs : 1\n",
      "science.physics : 1\n",
      "business__industrial.agriculture__forestry : 1\n",
      "science.biology.botany : 1\n",
      "technology__computing.consumer_electronics.game_systems__consoles : 1\n",
      "hobbies__interests.games.video__computer_games : 1\n",
      "business__industrial.aerospace__defence.space_tehnology : 1\n",
      "science.physics.atomic_physics : 1\n",
      "automotive__vehicles : 1\n",
      "business__industrial.business_news : 1\n",
      "finance : 1\n",
      "society.social_institution.marriage : 1\n",
      "business__industrial.hospitality_industry.event_planning : 1\n",
      "pets : 1\n",
      "science.environment__nature.flora__fauna : 1\n",
      "art__entertainment.celebrity_fan__gossip.hollywood : 1\n",
      "careers.advice__job : 1\n",
      "society.work : 1\n",
      "art__entertainment : 2\n",
      "technology__computing.consumer_electronics.smartphones.android : 2\n",
      "technology__computing.operating_systems.android : 2\n",
      "hobbies__interests.arts__crafts : 2\n",
      "automotive__vehicles.cars.luxury_cars : 2\n",
      "religion__spirituality : 2\n",
      "food__drink.vegan__vegetarian : 2\n",
      "science.biology.zoology : 3\n",
      "sports : 3\n",
      "society.crime.sex_offense : 3\n",
      "food__drink.food_allergy : 3\n",
      "style__fashion.accessories : 3\n",
      "automotive__vehicles.cars : 3\n",
      "technology__computing.software.graphics__music__animations : 3\n",
      "society.sex : 3\n",
      "finance.personal_finance__investing : 3\n",
      "misc : 4\n",
      "food__drink : 4\n",
      "style__fashion.footwear : 4\n",
      "education.art_history : 4\n",
      "art__entertainment.visual_art__design.painting__sketching : 4\n",
      "business__industrial.business__operations.startups : 4\n",
      "business__industrial.aerospace__defence : 4\n",
      "careers : 4\n",
      "society.culture : 5\n",
      "style__fashion : 5\n",
      "style__fashion.beauty : 5\n",
      "society : 5\n",
      "style__fashion.mens : 5\n",
      "technology__computing : 6\n",
      "science.environment__nature : 6\n",
      "travel.adventure : 7\n",
      "health__fitness.disorders : 7\n",
      "society.people : 7\n",
      "food__drink.cooking : 8\n",
      "art__entertainment.movies__tv.reviews__interviews : 9\n",
      "science.social_science.history : 9\n",
      "health__fitness.men_health : 9\n",
      "health__fitness.exercise : 9\n"
     ]
    }
   ],
   "metadata": {}
  },
  {
   "cell_type": "code",
   "execution_count": 31,
   "source": [
    "threshold = 6\n",
    "filtered = [key for key,value in tag_counter_dirty.items() if value >= threshold]"
   ],
   "outputs": [],
   "metadata": {}
  },
  {
   "cell_type": "code",
   "execution_count": 32,
   "source": [
    "filtered"
   ],
   "outputs": [
    {
     "output_type": "execute_result",
     "data": {
      "text/plain": [
       "['art__entertainment.humor',\n",
       " 'art__entertainment.celebrity_fan__gossip.bollywood',\n",
       " 'art__entertainment.movies__tv.movies__series_trailers',\n",
       " 'travel',\n",
       " 'society.relationship',\n",
       " 'technology__computing.tech_news',\n",
       " 'food__drink.cooking',\n",
       " 'food__drink.food',\n",
       " 'society.people.mens',\n",
       " 'hobbies__interests.arts__crafts.photography',\n",
       " 'technology__computing.consumer_electronics.camera__photo_equipments',\n",
       " 'society.life',\n",
       " 'art__entertainment.movies__tv',\n",
       " 'technology__computing',\n",
       " 'art__entertainment.movies__tv.reviews__interviews',\n",
       " 'hobbies__interests.games',\n",
       " 'misc.facts',\n",
       " 'science.physics.space__astronomy',\n",
       " 'science',\n",
       " 'misc.weird',\n",
       " 'hobbies__interests.paranormal',\n",
       " 'misc.anomaly',\n",
       " 'misc.mystery',\n",
       " 'health__fitness',\n",
       " 'science.social_science.history',\n",
       " 'automotive__vehicle.cars.luxury_cars',\n",
       " 'style__fashion.womens',\n",
       " 'travel.adventure',\n",
       " 'society.lifestyle',\n",
       " 'health__fitness.disorders',\n",
       " 'health__fitness.mental_health',\n",
       " 'food__drink.healthy_eating',\n",
       " 'society.people',\n",
       " 'science.environment__nature',\n",
       " 'business__industrial.aerospace__defense.war_industry__technology',\n",
       " 'art__emtertainment.celebrity_fan__gossip',\n",
       " 'health__fitness.men_health',\n",
       " 'health__fitness.exercise']"
      ]
     },
     "metadata": {},
     "execution_count": 32
    }
   ],
   "metadata": {}
  },
  {
   "cell_type": "code",
   "execution_count": 33,
   "source": [
    "def plot_map(counter: dict):\n",
    "    names = list(counter.keys())\n",
    "    values = list(counter.values())\n",
    "    fig = plt.figure(figsize=(100,100))\n",
    "    plt.barh(names, values, height=0.8)\n",
    "    for index, value in enumerate(values):\n",
    "        plt.text(value, index, str(value))\n",
    "    plt.show()"
   ],
   "outputs": [],
   "metadata": {}
  },
  {
   "cell_type": "code",
   "execution_count": 36,
   "source": [
    "len(tag_counter_dirty)"
   ],
   "outputs": [
    {
     "output_type": "execute_result",
     "data": {
      "text/plain": [
       "101"
      ]
     },
     "metadata": {},
     "execution_count": 36
    }
   ],
   "metadata": {}
  },
  {
   "cell_type": "code",
   "execution_count": 1,
   "source": [
    "import pickle"
   ],
   "outputs": [],
   "metadata": {}
  },
  {
   "cell_type": "code",
   "execution_count": 39,
   "source": [
    "with open(\"tag_counter.bin\", \"wb\") as file:\n",
    "    pickle.dump({\n",
    "        \"tag_counter\": tag_counter,\n",
    "        \"tag_counter_dirty\": tag_counter_dirty\n",
    "    }, file)"
   ],
   "outputs": [],
   "metadata": {}
  },
  {
   "cell_type": "code",
   "execution_count": 2,
   "source": [
    "obj = pickle.load(open(\"tag_counter.bin\", \"rb\"))"
   ],
   "outputs": [],
   "metadata": {}
  },
  {
   "cell_type": "code",
   "execution_count": 5,
   "source": [
    "dirty = obj['tag_counter_dirty']"
   ],
   "outputs": [],
   "metadata": {}
  },
  {
   "cell_type": "code",
   "execution_count": 7,
   "source": [
    "import pandas as pd"
   ],
   "outputs": [],
   "metadata": {}
  },
  {
   "cell_type": "code",
   "execution_count": 8,
   "source": [
    "df = pd.DataFrame(dirty.keys(), columns=['categories'])"
   ],
   "outputs": [],
   "metadata": {}
  },
  {
   "cell_type": "code",
   "execution_count": 9,
   "source": [
    "df.head()"
   ],
   "outputs": [
    {
     "output_type": "execute_result",
     "data": {
      "text/plain": [
       "                                          categories\n",
       "0                           art__entertainment.humor\n",
       "1  art__entertainment.celebrity_fan__gossip.bolly...\n",
       "2  art__entertainment.movies__tv.movies__series_t...\n",
       "3                                             travel\n",
       "4                            science.biology.zoology"
      ],
      "text/html": [
       "<div>\n",
       "<style scoped>\n",
       "    .dataframe tbody tr th:only-of-type {\n",
       "        vertical-align: middle;\n",
       "    }\n",
       "\n",
       "    .dataframe tbody tr th {\n",
       "        vertical-align: top;\n",
       "    }\n",
       "\n",
       "    .dataframe thead th {\n",
       "        text-align: right;\n",
       "    }\n",
       "</style>\n",
       "<table border=\"1\" class=\"dataframe\">\n",
       "  <thead>\n",
       "    <tr style=\"text-align: right;\">\n",
       "      <th></th>\n",
       "      <th>categories</th>\n",
       "    </tr>\n",
       "  </thead>\n",
       "  <tbody>\n",
       "    <tr>\n",
       "      <th>0</th>\n",
       "      <td>art__entertainment.humor</td>\n",
       "    </tr>\n",
       "    <tr>\n",
       "      <th>1</th>\n",
       "      <td>art__entertainment.celebrity_fan__gossip.bolly...</td>\n",
       "    </tr>\n",
       "    <tr>\n",
       "      <th>2</th>\n",
       "      <td>art__entertainment.movies__tv.movies__series_t...</td>\n",
       "    </tr>\n",
       "    <tr>\n",
       "      <th>3</th>\n",
       "      <td>travel</td>\n",
       "    </tr>\n",
       "    <tr>\n",
       "      <th>4</th>\n",
       "      <td>science.biology.zoology</td>\n",
       "    </tr>\n",
       "  </tbody>\n",
       "</table>\n",
       "</div>"
      ]
     },
     "metadata": {},
     "execution_count": 9
    }
   ],
   "metadata": {}
  },
  {
   "cell_type": "code",
   "execution_count": 12,
   "source": [
    "df.to_csv('categories.csv')"
   ],
   "outputs": [],
   "metadata": {}
  },
  {
   "cell_type": "code",
   "execution_count": null,
   "source": [],
   "outputs": [],
   "metadata": {}
  }
 ],
 "metadata": {
  "kernelspec": {
   "name": "python39564bit29448e0557d14d62a3c382fd631c0869",
   "display_name": "Python 3.9.5 64-bit",
   "language": "python"
  },
  "interpreter": {
   "hash": "009e665c79fbfc8313dad4bf6cdcdc4549aaea5605537677d74b0784ff1d5538"
  },
  "language_info": {
   "name": "python",
   "version": "3.9.6",
   "mimetype": "text/x-python",
   "codemirror_mode": {
    "name": "ipython",
    "version": 3
   },
   "pygments_lexer": "ipython3",
   "nbconvert_exporter": "python",
   "file_extension": ".py"
  }
 },
 "nbformat": 4,
 "nbformat_minor": 4
}