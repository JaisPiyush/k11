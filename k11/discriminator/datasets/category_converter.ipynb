{
 "cells": [
  {
   "cell_type": "code",
   "execution_count": 46,
   "metadata": {},
   "outputs": [],
   "source": [
    "import pandas as pd\n",
    "import numpy as np"
   ]
  },
  {
   "cell_type": "code",
   "execution_count": 47,
   "metadata": {},
   "outputs": [],
   "source": [
    "data = pd.read_csv('categories.csv')"
   ]
  },
  {
   "cell_type": "code",
   "execution_count": 48,
   "metadata": {},
   "outputs": [
    {
     "output_type": "execute_result",
     "data": {
      "text/plain": [
       "                    LEVEL1                   LEVEL 2           LEVEL 3  \\\n",
       "0    art and entertainment      books and literature         mythology   \n",
       "1    art and entertainment      books and literature            poetry   \n",
       "2    art and entertainment      books and literature              None   \n",
       "3    art and entertainment  celebrity fan and gossip         bollywood   \n",
       "4    art and entertainment  celebrity fan and gossip         hollywood   \n",
       "..                     ...                       ...               ...   \n",
       "608                 travel                transports  public transport   \n",
       "609                 travel                transports       road travel   \n",
       "610                 travel                transports        sea travel   \n",
       "611                 travel                transports      train travel   \n",
       "612                 travel                      None              None   \n",
       "\n",
       "           LEVEL 4 LEVEL 5  \n",
       "0             None    None  \n",
       "1             None    None  \n",
       "2             None    None  \n",
       "3             None    None  \n",
       "4             None    None  \n",
       "..             ...     ...  \n",
       "608           None    None  \n",
       "609  road accident    None  \n",
       "610        cruises    None  \n",
       "611           None    None  \n",
       "612           None    None  \n",
       "\n",
       "[613 rows x 5 columns]"
      ],
      "text/html": "<div>\n<style scoped>\n    .dataframe tbody tr th:only-of-type {\n        vertical-align: middle;\n    }\n\n    .dataframe tbody tr th {\n        vertical-align: top;\n    }\n\n    .dataframe thead th {\n        text-align: right;\n    }\n</style>\n<table border=\"1\" class=\"dataframe\">\n  <thead>\n    <tr style=\"text-align: right;\">\n      <th></th>\n      <th>LEVEL1</th>\n      <th>LEVEL 2</th>\n      <th>LEVEL 3</th>\n      <th>LEVEL 4</th>\n      <th>LEVEL 5</th>\n    </tr>\n  </thead>\n  <tbody>\n    <tr>\n      <th>0</th>\n      <td>art and entertainment</td>\n      <td>books and literature</td>\n      <td>mythology</td>\n      <td>None</td>\n      <td>None</td>\n    </tr>\n    <tr>\n      <th>1</th>\n      <td>art and entertainment</td>\n      <td>books and literature</td>\n      <td>poetry</td>\n      <td>None</td>\n      <td>None</td>\n    </tr>\n    <tr>\n      <th>2</th>\n      <td>art and entertainment</td>\n      <td>books and literature</td>\n      <td>None</td>\n      <td>None</td>\n      <td>None</td>\n    </tr>\n    <tr>\n      <th>3</th>\n      <td>art and entertainment</td>\n      <td>celebrity fan and gossip</td>\n      <td>bollywood</td>\n      <td>None</td>\n      <td>None</td>\n    </tr>\n    <tr>\n      <th>4</th>\n      <td>art and entertainment</td>\n      <td>celebrity fan and gossip</td>\n      <td>hollywood</td>\n      <td>None</td>\n      <td>None</td>\n    </tr>\n    <tr>\n      <th>...</th>\n      <td>...</td>\n      <td>...</td>\n      <td>...</td>\n      <td>...</td>\n      <td>...</td>\n    </tr>\n    <tr>\n      <th>608</th>\n      <td>travel</td>\n      <td>transports</td>\n      <td>public transport</td>\n      <td>None</td>\n      <td>None</td>\n    </tr>\n    <tr>\n      <th>609</th>\n      <td>travel</td>\n      <td>transports</td>\n      <td>road travel</td>\n      <td>road accident</td>\n      <td>None</td>\n    </tr>\n    <tr>\n      <th>610</th>\n      <td>travel</td>\n      <td>transports</td>\n      <td>sea travel</td>\n      <td>cruises</td>\n      <td>None</td>\n    </tr>\n    <tr>\n      <th>611</th>\n      <td>travel</td>\n      <td>transports</td>\n      <td>train travel</td>\n      <td>None</td>\n      <td>None</td>\n    </tr>\n    <tr>\n      <th>612</th>\n      <td>travel</td>\n      <td>None</td>\n      <td>None</td>\n      <td>None</td>\n      <td>None</td>\n    </tr>\n  </tbody>\n</table>\n<p>613 rows × 5 columns</p>\n</div>"
     },
     "metadata": {},
     "execution_count": 48
    }
   ],
   "source": [
    "data.fillna(value='None')"
   ]
  },
  {
   "cell_type": "code",
   "execution_count": 49,
   "metadata": {},
   "outputs": [],
   "source": [
    "def trans(txt):\n",
    "    return txt.replace(\" and \",\"__\").replace(\" \",\"_\").replace(\",\",\"_\")"
   ]
  },
  {
   "cell_type": "code",
   "execution_count": 50,
   "metadata": {},
   "outputs": [],
   "source": [
    "cats = []\n",
    "for row in data.values:\n",
    "    cat = []\n",
    "    if str(row[0]) != 'nan':\n",
    "        cat.append(row[0])\n",
    "    if str(row[1]) != 'nan':\n",
    "        cat.append(row[1])\n",
    "    if str(row[2]) != 'nan':\n",
    "        cat.append(row[2])\n",
    "    if str(row[3]) != 'nan':\n",
    "        cat.append(row[3])\n",
    "    if str(row[4]) != 'nan':\n",
    "        cat.append(row[4])\n",
    "    if len(cat) > 0:\n",
    "        cats.append(trans(\".\".join(cat)))"
   ]
  },
  {
   "cell_type": "code",
   "execution_count": 51,
   "metadata": {},
   "outputs": [
    {
     "output_type": "execute_result",
     "data": {
      "text/plain": [
       "array(['art and entertainment', 'books and literature', 'mythology', nan,\n",
       "       nan], dtype=object)"
      ]
     },
     "metadata": {},
     "execution_count": 51
    }
   ],
   "source": [
    "data.values[0]"
   ]
  },
  {
   "cell_type": "code",
   "execution_count": 52,
   "metadata": {},
   "outputs": [],
   "source": [
    "#cats"
   ]
  },
  {
   "cell_type": "code",
   "execution_count": 53,
   "metadata": {},
   "outputs": [],
   "source": [
    "from k11.discriminator.topic_manager import FrozenTopicInterface, Topics\n",
    "import os\n"
   ]
  },
  {
   "cell_type": "code",
   "execution_count": 54,
   "metadata": {},
   "outputs": [],
   "source": [
    "category = ['art__entertainment.humor',\n",
    " 'art__entertainment.movies__tv.movies__series_trailers',\n",
    " 'art__entertainment.celebrity_fan__gossip.bollywood',\n",
    " 'travel',\n",
    " 'society.relationship',\n",
    " 'technology__computing.tech_news',\n",
    " 'food__drink.cooking',\n",
    " 'food__drink.food',\n",
    " 'society.people.mens',\n",
    " 'hobbies__interests.arts__crafts.photography',\n",
    " 'technology__computing.consumer_electronics.camera__photo_equipments',\n",
    " 'society.life',\n",
    " 'technology__computing',\n",
    " 'art__entertainment.movies__tv.reviews__interviews',\n",
    " 'hobbies__interests.games',\n",
    " 'misc.facts',\n",
    " 'science.physics.space__astronomy',\n",
    " 'science',\n",
    " 'misc.weird',\n",
    " 'hobbies__interests.paranormal',\n",
    " 'misc.anomaly',\n",
    " 'misc.mystery',\n",
    " 'health__fitness',\n",
    " 'science.social_science.history',\n",
    " 'automotive__vehicle.cars.luxury_cars',\n",
    " 'style__fashion.womens',\n",
    " 'society.lifestyle',\n",
    " 'travel.adventure',\n",
    " 'health__fitness.mental_health',\n",
    " 'health__fitness.disorders',\n",
    " 'food__drink.healthy_eating',\n",
    " 'society.people',\n",
    " 'science.environment__nature',\n",
    " 'business__industrial.aerospace__defense.war_industry__technology',\n",
    " 'health__fitness.men_health',\n",
    " 'health__fitness.exercise']"
   ]
  },
  {
   "cell_type": "code",
   "execution_count": 55,
   "metadata": {},
   "outputs": [],
   "source": [
    "def furnish_cat(category):\n",
    "    new_cats = []\n",
    "    for cat in category:\n",
    "        splited = cat.split(\".\")\n",
    "        for index in range(len(splited)):\n",
    "            new_cats.append(\".\".join(splited[:index+1]))\n",
    "    return set(new_cats)"
   ]
  },
  {
   "cell_type": "code",
   "execution_count": 56,
   "metadata": {},
   "outputs": [],
   "source": [
    "cats = furnish_cat(category)"
   ]
  },
  {
   "cell_type": "code",
   "execution_count": 61,
   "metadata": {},
   "outputs": [
    {
     "output_type": "execute_result",
     "data": {
      "text/plain": [
       "52"
      ]
     },
     "metadata": {},
     "execution_count": 61
    }
   ],
   "source": [
    "len(cats)"
   ]
  },
  {
   "cell_type": "code",
   "execution_count": 57,
   "metadata": {},
   "outputs": [],
   "source": [
    "dir_name = os.getcwd()\n",
    "dir_name = \"/\".join((dir_name.split(\"/\")[:-1]))"
   ]
  },
  {
   "cell_type": "code",
   "execution_count": 58,
   "metadata": {},
   "outputs": [],
   "source": [
    "topic_manager = FrozenTopicInterface()\n",
    "topic_manager.set_file_path(dir_name)"
   ]
  },
  {
   "cell_type": "code",
   "execution_count": 59,
   "metadata": {},
   "outputs": [],
   "source": [
    "topic_manager.topics = Topics()\n",
    "topic_manager.topics.names = cats\n",
    "topic_manager.commit()"
   ]
  },
  {
   "cell_type": "code",
   "execution_count": 60,
   "metadata": {},
   "outputs": [
    {
     "output_type": "execute_result",
     "data": {
      "text/plain": [
       "52"
      ]
     },
     "metadata": {},
     "execution_count": 60
    }
   ],
   "source": [
    "topic_manager.num_topics()"
   ]
  },
  {
   "cell_type": "code",
   "execution_count": 26,
   "metadata": {},
   "outputs": [],
   "source": []
  },
  {
   "cell_type": "code",
   "execution_count": 21,
   "metadata": {},
   "outputs": [
    {
     "output_type": "execute_result",
     "data": {
      "text/plain": [
       "'/home/jarden/Desktop/k11/container/k11/discriminator'"
      ]
     },
     "metadata": {},
     "execution_count": 21
    }
   ],
   "source": []
  },
  {
   "cell_type": "code",
   "execution_count": null,
   "metadata": {},
   "outputs": [],
   "source": []
  }
 ],
 "metadata": {
  "kernelspec": {
   "display_name": "Python 3.9.5 64-bit",
   "language": "python",
   "name": "python39564bit29448e0557d14d62a3c382fd631c0869"
  },
  "language_info": {
   "codemirror_mode": {
    "name": "ipython",
    "version": 3
   },
   "file_extension": ".py",
   "mimetype": "text/x-python",
   "name": "python",
   "nbconvert_exporter": "python",
   "pygments_lexer": "ipython3",
   "version": "3.9.5-final"
  }
 },
 "nbformat": 4,
 "nbformat_minor": 4
}