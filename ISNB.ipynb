{
 "cells": [
  {
   "cell_type": "markdown",
   "metadata": {},
   "source": [
    "## Interactive Shell NoteBook"
   ]
  },
  {
   "cell_type": "code",
   "execution_count": 1,
   "metadata": {},
   "outputs": [
    {
     "data": {
      "text/plain": [
       "75"
      ]
     },
     "execution_count": 1,
     "metadata": {},
     "output_type": "execute_result"
    }
   ],
   "source": [
    "### Testing text_set\n",
    "data = \"sdhhkjhifhdfhdhvkdhflkhoihvoilhhhccvhsdfuhgojfohvbihv,lvihisnvkhsihkhvisdhb\"\n",
    "len(data)"
   ]
  },
  {
   "cell_type": "code",
   "execution_count": 3,
   "metadata": {},
   "outputs": [],
   "source": [
    "t_sets = []\n",
    "if len(txt := data.replace(\"\\n\",\"\").replace(\"\\t\",\"\")) > 0:\n",
    "    if len(txt) < 22:\n",
    "        t_sets.append(txt)\n",
    "    else:\n",
    "        for chunk in range(0, len(txt), 22):\n",
    "            if chunk + 22 < len(txt):\n",
    "                t_sets.append(txt[chunk: chunk+22])\n",
    "            else:\n",
    "                t_sets.append(txt[chunk:])"
   ]
  },
  {
   "cell_type": "code",
   "execution_count": 4,
   "metadata": {},
   "outputs": [
    {
     "data": {
      "text/plain": [
       "['sdhhkjhifhdfhdhvkdhflk',\n",
       " 'hoihvoilhhhccvhsdfuhgo',\n",
       " 'jfohvbihv,lvihisnvkhsi',\n",
       " 'hkhvisdhb']"
      ]
     },
     "execution_count": 4,
     "metadata": {},
     "output_type": "execute_result"
    }
   ],
   "source": [
    "t_sets"
   ]
  },
  {
   "cell_type": "code",
   "execution_count": null,
   "metadata": {},
   "outputs": [],
   "source": []
  }
 ],
 "metadata": {
  "kernelspec": {
   "display_name": "Python 3",
   "language": "python",
   "name": "python3"
  },
  "language_info": {
   "codemirror_mode": {
    "name": "ipython",
    "version": 3
   },
   "file_extension": ".py",
   "mimetype": "text/x-python",
   "name": "python",
   "nbconvert_exporter": "python",
   "pygments_lexer": "ipython3",
   "version": "3.8.5"
  }
 },
 "nbformat": 4,
 "nbformat_minor": 4
}
