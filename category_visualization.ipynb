{
 "cells": [
  {
   "cell_type": "code",
   "execution_count": 1,
   "metadata": {},
   "outputs": [],
   "source": [
    "from k11.models.main import SourceMap, LinkStore"
   ]
  },
  {
   "cell_type": "code",
   "execution_count": 2,
   "metadata": {},
   "outputs": [],
   "source": [
    "import numpy as np \n",
    "import pandas as pd \n",
    "%matplotlib inline \n",
    "import matplotlib.pyplot as plt "
   ]
  },
  {
   "cell_type": "code",
   "execution_count": 3,
   "metadata": {},
   "outputs": [],
   "source": [
    "def tag_formatter(s: str) ->str:\n",
    "    return s.replace(\"/\", \".\")\n",
    "    "
   ]
  },
  {
   "cell_type": "code",
   "execution_count": 4,
   "metadata": {},
   "outputs": [],
   "source": [
    "def assumed_tag_formatter(s) -> list:\n",
    "    if isinstance(s, list):\n",
    "        s = list(filter(lambda x: x is not None and len(x) > 0, s))\n",
    "        s = \" \".join(s)\n",
    "    s = s.strip()\n",
    "    return list(filter(lambda x: len(x) > 0, set(tag_formatter(s).split(\" \"))))"
   ]
  },
  {
   "cell_type": "code",
   "execution_count": 5,
   "metadata": {},
   "outputs": [],
   "source": [
    "a = assumed_tag_formatter([\" art__entertainment.humor\", \"art__entertainment.celebrity_fan__gossip.bollywood art__entertainment.movies\"])\n",
    "b = assumed_tag_formatter([None, \"as\"])"
   ]
  },
  {
   "cell_type": "code",
   "execution_count": 6,
   "metadata": {},
   "outputs": [
    {
     "output_type": "stream",
     "name": "stdout",
     "text": [
      "['art__entertainment.humor', 'art__entertainment.movies', 'art__entertainment.celebrity_fan__gossip.bollywood'] ['as']\n"
     ]
    }
   ],
   "source": [
    "print(a,b)"
   ]
  },
  {
   "cell_type": "code",
   "execution_count": null,
   "metadata": {},
   "outputs": [],
   "source": []
  },
  {
   "cell_type": "code",
   "execution_count": 7,
   "metadata": {},
   "outputs": [],
   "source": [
    "def insert_link(array: list, source_map: SourceMap, link_store: LinkStore):\n",
    "    # print(assumed_tag_formatter([source_map.assumed_tags, link_store.assumed_tags]))\n",
    "    tags = assumed_tag_formatter([source_map.assumed_tags, link_store.assumed_tags])\n",
    "    array.append([source_map.source_id, source_map.source_name, \n",
    "    tags,\n",
    "    link_store.content_type, link_store.is_multiple, link_store.link   \n",
    "    ])\n",
    "    return array"
   ]
  },
  {
   "cell_type": "code",
   "execution_count": 8,
   "metadata": {},
   "outputs": [],
   "source": [
    "def create_frame():\n",
    "    source_maps: SourceMap = SourceMap.adapter().find({\"is_third_party\": False})\n",
    "    #[ source_id, source_name, assumed_tags, content_type, is_multiple, link, ]\n",
    "    array = []\n",
    "    for source_map in source_maps:\n",
    "        for link_store in source_map.links:\n",
    "            array = insert_link(array, source_map, link_store)\n",
    "            # print(array)\n",
    "    return pd.DataFrame(array, columns=['Source Id', 'Source Name', 'Assumed Tags', ' Content Type', 'Is Multiple', 'Link'])\n"
   ]
  },
  {
   "cell_type": "code",
   "execution_count": 9,
   "metadata": {
    "tags": []
   },
   "outputs": [],
   "source": [
    "df = create_frame()"
   ]
  },
  {
   "cell_type": "code",
   "execution_count": 10,
   "metadata": {},
   "outputs": [
    {
     "output_type": "execute_result",
     "data": {
      "text/plain": [
       "                           Source Id Source Name  \\\n",
       "0  WSTvVDLbD-5nbmqOxtkX3A_scoop_woop  Scoop Woop   \n",
       "1  WSTvVDLbD-5nbmqOxtkX3A_scoop_woop  Scoop Woop   \n",
       "2  WSTvVDLbD-5nbmqOxtkX3A_scoop_woop  Scoop Woop   \n",
       "3  WSTvVDLbD-5nbmqOxtkX3A_scoop_woop  Scoop Woop   \n",
       "4  WSTvVDLbD-5nbmqOxtkX3A_scoop_woop  Scoop Woop   \n",
       "5  WSTvVDLbD-5nbmqOxtkX3A_scoop_woop  Scoop Woop   \n",
       "6  WSTvVDLbD-5nbmqOxtkX3A_scoop_woop  Scoop Woop   \n",
       "7  WSTvVDLbD-5nbmqOxtkX3A_scoop_woop  Scoop Woop   \n",
       "8  WSTvVDLbD-5nbmqOxtkX3A_scoop_woop  Scoop Woop   \n",
       "9  WSTvVDLbD-5nbmqOxtkX3A_scoop_woop  Scoop Woop   \n",
       "\n",
       "                                        Assumed Tags  Content Type  \\\n",
       "0                         [art__entertainment.humor]       article   \n",
       "1  [art__entertainment.humor, art__entertainment....       article   \n",
       "2                 [art__entertainment.humor, travel]       article   \n",
       "3  [art__entertainment.humor, science.biology.zoo...       article   \n",
       "4                 [art__entertainment.humor, sports]       article   \n",
       "5   [art__entertainment.humor, society.relationship]       article   \n",
       "6  [art__entertainment.humor, technology__computi...       article   \n",
       "7  [art__entertainment.humor, food__drink.food, f...       article   \n",
       "8  [art__entertainment.humor, society.people.mens...       article   \n",
       "9  [art__entertainment.humor, society.people.wome...       article   \n",
       "\n",
       "   Is Multiple                                               Link  \n",
       "0        False         https://www.scoopwhoop.com/category/humor/  \n",
       "1        False  https://www.scoopwhoop.com/category/entertainm...  \n",
       "2        False        https://www.scoopwhoop.com/category/travel/  \n",
       "3        False       https://www.scoopwhoop.com/category/animals/  \n",
       "4        False        https://www.scoopwhoop.com/category/sports/  \n",
       "5        False  https://www.scoopwhoop.com/category/relationsh...  \n",
       "6        False          https://www.scoopwhoop.com/category/tech/  \n",
       "7        False          https://www.scoopwhoop.com/category/food/  \n",
       "8        False           https://www.scoopwhoop.com/category/men/  \n",
       "9        False           https://www.scoopwhoop.com/category/men/  "
      ],
      "text/html": "<div>\n<style scoped>\n    .dataframe tbody tr th:only-of-type {\n        vertical-align: middle;\n    }\n\n    .dataframe tbody tr th {\n        vertical-align: top;\n    }\n\n    .dataframe thead th {\n        text-align: right;\n    }\n</style>\n<table border=\"1\" class=\"dataframe\">\n  <thead>\n    <tr style=\"text-align: right;\">\n      <th></th>\n      <th>Source Id</th>\n      <th>Source Name</th>\n      <th>Assumed Tags</th>\n      <th>Content Type</th>\n      <th>Is Multiple</th>\n      <th>Link</th>\n    </tr>\n  </thead>\n  <tbody>\n    <tr>\n      <th>0</th>\n      <td>WSTvVDLbD-5nbmqOxtkX3A_scoop_woop</td>\n      <td>Scoop Woop</td>\n      <td>[art__entertainment.humor]</td>\n      <td>article</td>\n      <td>False</td>\n      <td>https://www.scoopwhoop.com/category/humor/</td>\n    </tr>\n    <tr>\n      <th>1</th>\n      <td>WSTvVDLbD-5nbmqOxtkX3A_scoop_woop</td>\n      <td>Scoop Woop</td>\n      <td>[art__entertainment.humor, art__entertainment....</td>\n      <td>article</td>\n      <td>False</td>\n      <td>https://www.scoopwhoop.com/category/entertainm...</td>\n    </tr>\n    <tr>\n      <th>2</th>\n      <td>WSTvVDLbD-5nbmqOxtkX3A_scoop_woop</td>\n      <td>Scoop Woop</td>\n      <td>[art__entertainment.humor, travel]</td>\n      <td>article</td>\n      <td>False</td>\n      <td>https://www.scoopwhoop.com/category/travel/</td>\n    </tr>\n    <tr>\n      <th>3</th>\n      <td>WSTvVDLbD-5nbmqOxtkX3A_scoop_woop</td>\n      <td>Scoop Woop</td>\n      <td>[art__entertainment.humor, science.biology.zoo...</td>\n      <td>article</td>\n      <td>False</td>\n      <td>https://www.scoopwhoop.com/category/animals/</td>\n    </tr>\n    <tr>\n      <th>4</th>\n      <td>WSTvVDLbD-5nbmqOxtkX3A_scoop_woop</td>\n      <td>Scoop Woop</td>\n      <td>[art__entertainment.humor, sports]</td>\n      <td>article</td>\n      <td>False</td>\n      <td>https://www.scoopwhoop.com/category/sports/</td>\n    </tr>\n    <tr>\n      <th>5</th>\n      <td>WSTvVDLbD-5nbmqOxtkX3A_scoop_woop</td>\n      <td>Scoop Woop</td>\n      <td>[art__entertainment.humor, society.relationship]</td>\n      <td>article</td>\n      <td>False</td>\n      <td>https://www.scoopwhoop.com/category/relationsh...</td>\n    </tr>\n    <tr>\n      <th>6</th>\n      <td>WSTvVDLbD-5nbmqOxtkX3A_scoop_woop</td>\n      <td>Scoop Woop</td>\n      <td>[art__entertainment.humor, technology__computi...</td>\n      <td>article</td>\n      <td>False</td>\n      <td>https://www.scoopwhoop.com/category/tech/</td>\n    </tr>\n    <tr>\n      <th>7</th>\n      <td>WSTvVDLbD-5nbmqOxtkX3A_scoop_woop</td>\n      <td>Scoop Woop</td>\n      <td>[art__entertainment.humor, food__drink.food, f...</td>\n      <td>article</td>\n      <td>False</td>\n      <td>https://www.scoopwhoop.com/category/food/</td>\n    </tr>\n    <tr>\n      <th>8</th>\n      <td>WSTvVDLbD-5nbmqOxtkX3A_scoop_woop</td>\n      <td>Scoop Woop</td>\n      <td>[art__entertainment.humor, society.people.mens...</td>\n      <td>article</td>\n      <td>False</td>\n      <td>https://www.scoopwhoop.com/category/men/</td>\n    </tr>\n    <tr>\n      <th>9</th>\n      <td>WSTvVDLbD-5nbmqOxtkX3A_scoop_woop</td>\n      <td>Scoop Woop</td>\n      <td>[art__entertainment.humor, society.people.wome...</td>\n      <td>article</td>\n      <td>False</td>\n      <td>https://www.scoopwhoop.com/category/men/</td>\n    </tr>\n  </tbody>\n</table>\n</div>"
     },
     "metadata": {},
     "execution_count": 10
    }
   ],
   "source": [
    "df.head(10)"
   ]
  },
  {
   "cell_type": "code",
   "execution_count": 11,
   "metadata": {},
   "outputs": [],
   "source": [
    "def insert_tag(counter: dict, tag:str, substr: bool = True):\n",
    "    if not substr:\n",
    "        if tag not in counter:\n",
    "            counter[tag] = 0\n",
    "        counter[tag] += 1\n",
    "        return counter\n",
    "    all_tags = tag.split(\".\")\n",
    "    for index in range(len(all_tags)):\n",
    "        t = \".\".join(all_tags[:index+1])\n",
    "        if t not in counter:\n",
    "            counter[t] = 0\n",
    "        counter[t] += 1\n",
    "    return counter"
   ]
  },
  {
   "cell_type": "code",
   "execution_count": 12,
   "metadata": {},
   "outputs": [],
   "source": [
    "tags = \"technology__computing.consumer_electronics.smartphones.roid\".split(\".\")"
   ]
  },
  {
   "cell_type": "code",
   "execution_count": 13,
   "metadata": {},
   "outputs": [
    {
     "output_type": "execute_result",
     "data": {
      "text/plain": [
       "['technology__computing']"
      ]
     },
     "metadata": {},
     "execution_count": 13
    }
   ],
   "source": [
    "tags[0:1]"
   ]
  },
  {
   "cell_type": "code",
   "execution_count": 14,
   "metadata": {},
   "outputs": [
    {
     "output_type": "stream",
     "name": "stdout",
     "text": [
      "technology__computing\ntechnology__computing.consumer_electronics\ntechnology__computing.consumer_electronics.smartphones\ntechnology__computing.consumer_electronics.smartphones.roid\n"
     ]
    }
   ],
   "source": [
    "for index in range(len(tags)):\n",
    "    t = \".\".join(tags[:index+1])\n",
    "    print(t)"
   ]
  },
  {
   "cell_type": "code",
   "execution_count": null,
   "metadata": {},
   "outputs": [],
   "source": []
  },
  {
   "cell_type": "code",
   "execution_count": 15,
   "metadata": {},
   "outputs": [],
   "source": [
    "def tags_count(substr=True):\n",
    "    tag_couter = {}\n",
    "    for tag_list in df[\"Assumed Tags\"].values:\n",
    "        for tag in tag_list:\n",
    "            tag_couter = insert_tag(tag_couter, tag, substr=substr)\n",
    "    return tag_couter\n"
   ]
  },
  {
   "cell_type": "code",
   "execution_count": 16,
   "metadata": {},
   "outputs": [],
   "source": [
    "tag_counter = tags_count()"
   ]
  },
  {
   "cell_type": "code",
   "execution_count": 17,
   "metadata": {},
   "outputs": [],
   "source": [
    "tag_counter_dirty = tags_count(substr=False)"
   ]
  },
  {
   "cell_type": "code",
   "execution_count": 18,
   "metadata": {},
   "outputs": [
    {
     "output_type": "execute_result",
     "data": {
      "text/plain": [
       "{'art__entertainment': 61,\n",
       " 'art__entertainment.humor': 12,\n",
       " 'art__entertainment.movies__tv': 20,\n",
       " 'art__entertainment.movies__tv.movies__series_trailers': 1,\n",
       " 'art__entertainment.celebrity_fan__gossip': 23,\n",
       " 'art__entertainment.celebrity_fan__gossip.bollywood': 21,\n",
       " 'travel': 19,\n",
       " 'science': 51,\n",
       " 'science.biology': 4,\n",
       " 'science.biology.zoology': 3,\n",
       " 'sports': 2,\n",
       " 'society': 65,\n",
       " 'society.relationship': 7,\n",
       " 'technology__computing': 46,\n",
       " 'technology__computing.tech_news': 15,\n",
       " 'food__drink': 14,\n",
       " 'food__drink.food': 3,\n",
       " 'food__drink.cooking': 1,\n",
       " 'society.people': 8,\n",
       " 'society.people.mens': 1,\n",
       " 'society.culture': 5,\n",
       " 'society.people.womens': 1,\n",
       " 'misc': 78,\n",
       " 'technology__computing.consumer_electronics': 15,\n",
       " 'technology__computing.consumer_electronics.smartphones': 2,\n",
       " 'technology__computing.consumer_electronics.smartphones.android': 2,\n",
       " 'technology__computing.operating_systems': 3,\n",
       " 'technology__computing.operating_systems.android': 2,\n",
       " 'technology__computing.hardware': 2,\n",
       " 'technology__computing.hardware.computer': 1,\n",
       " 'technology__computing.consumer_electronics.games__console': 1,\n",
       " 'technology__computing.internet_technology': 1,\n",
       " 'technology__computing.gaming': 1,\n",
       " 'hobbies__interests': 65,\n",
       " 'hobbies__interests.arts__crafts': 33,\n",
       " 'hobbies__interests.arts__crafts.photography': 31,\n",
       " 'technology__computing.consumer_electronics.camera__photo_equipments': 10,\n",
       " 'society.life': 14,\n",
       " 'society.welfare': 1,\n",
       " 'society.welfare.social_service': 1,\n",
       " 'style__fashion': 37,\n",
       " 'art__entertainment.movies__tv.reviews__interviews': 2,\n",
       " 'style__fashion.beauty': 5,\n",
       " 'style__fashion.clothing': 1,\n",
       " 'hobbies__interests.games': 15,\n",
       " 'misc.facts': 21,\n",
       " 'science.physics': 12,\n",
       " 'science.physics.space__astronomy': 10,\n",
       " 'science.enviroment': 1,\n",
       " 'misc.anomaly': 18,\n",
       " 'misc.weird': 18,\n",
       " 'hobbies__interests.paranormal': 17,\n",
       " 'misc.mystery': 17,\n",
       " 'health__fitness': 51,\n",
       " 'science.social_science': 9,\n",
       " 'science.social_science.history': 9,\n",
       " 'automotive__vehicle': 9,\n",
       " 'automotive__vehicle.cars': 9,\n",
       " 'automotive__vehicle.cars.luxury_cars': 9,\n",
       " 'style__fashion.womens': 16,\n",
       " 'style__fashion.fashion_designers': 1,\n",
       " 'style__fashion.jewelery': 1,\n",
       " 'automotive__vehicles': 5,\n",
       " 'automotive__vehicles.cars': 4,\n",
       " 'automotive__vehicles.cars.luxury_cars': 2,\n",
       " 'society.lifestyle': 21,\n",
       " 'travel.adventure': 5,\n",
       " 'health__fitness.disorders': 7,\n",
       " 'health__fitness.mental_health': 29,\n",
       " 'food__drink.healthy_eating': 7,\n",
       " 'society.life.inspiraion': 1,\n",
       " 'society.life.happiness': 1,\n",
       " 'religion__spirituality': 2,\n",
       " 'society.crime': 3,\n",
       " 'society.crime.sex_offense': 3,\n",
       " 'style__fashion.celebs': 1,\n",
       " 'style__fashion.mens': 3,\n",
       " 'style__fashion.accessories': 2,\n",
       " 'style__fashion.footwear': 3,\n",
       " 'science.environment__nature': 7,\n",
       " 'business__industrial': 22,\n",
       " 'business__industrial.agriculture__forestry': 1,\n",
       " 'science.biology.botany': 1,\n",
       " 'technology__computing.software': 3,\n",
       " 'technology__computing.software.graphics__music__animations': 3,\n",
       " 'education': 4,\n",
       " 'education.art_history': 4,\n",
       " 'art__entertainment.visual_art__design': 4,\n",
       " 'art__entertainment.visual_art__design.painting__sketching': 4,\n",
       " 'business__industrial.business__operations': 4,\n",
       " 'business__industrial.business__operations.startups': 4,\n",
       " 'business__industrial.aerospace__defence': 5,\n",
       " 'technology__computing.consumer_electronics.game_systems__consoles': 1,\n",
       " 'hobbies__interests.games.video__computer_games': 1,\n",
       " 'business__industrial.aerospace__defence.space_tehnology': 1,\n",
       " 'science.physics.atomic_physics': 1,\n",
       " 'business__industrial.aerospace__defense': 10,\n",
       " 'business__industrial.aerospace__defense.war_industry__technology': 10,\n",
       " 'careers': 1,\n",
       " 'business__industrial.business_news': 1,\n",
       " 'finance': 1,\n",
       " 'society.social_institution': 1,\n",
       " 'society.social_institution.marriage': 1,\n",
       " 'business__industrial.hospitality_industry': 1,\n",
       " 'business__industrial.hospitality_industry.event_planning': 1,\n",
       " 'science.environment__nature.flora__fauna': 1,\n",
       " 'pets': 1,\n",
       " 'art__entertainment.celebrity_fan__gossip.hollywood': 1}"
      ]
     },
     "metadata": {},
     "execution_count": 18
    }
   ],
   "source": [
    "tag_counter"
   ]
  },
  {
   "cell_type": "code",
   "execution_count": 19,
   "metadata": {},
   "outputs": [],
   "source": [
    "def plot_map(counter: dict):\n",
    "    names = list(counter.keys())\n",
    "    values = list(counter.values())\n",
    "    fig = plt.figure(figsize=(100,100))\n",
    "    plt.barh(names, values, height=0.8)\n",
    "    for index, value in enumerate(values):\n",
    "        plt.text(value, index, str(value))\n",
    "    plt.show()"
   ]
  },
  {
   "cell_type": "code",
   "execution_count": null,
   "metadata": {},
   "outputs": [],
   "source": []
  },
  {
   "cell_type": "code",
   "execution_count": 20,
   "metadata": {},
   "outputs": [
    {
     "output_type": "stream",
     "name": "stdout",
     "text": [
      "['wkfG9nK7n7HdZ4ALSghb_Q_luxury lifestyle mag' 'Luxury Lifestyle Mag'\n list(['automotive__vehicle.cars.luxury_cars']) 'article' False\n 'https://www.luxurylifestylemag.co.uk/tag/luxury-cars/feed/']\n['j2wVILgTZ6O5bXwmDWPMAQ_pinterest' 'Pinterest'\n list(['automotive__vehicle.cars.luxury_cars']) 'article' True\n 'https://in.pinterest.com/noorhazin/luxury-cars.rss']\n['j2wVILgTZ6O5bXwmDWPMAQ_pinterest' 'Pinterest'\n list(['automotive__vehicle.cars.luxury_cars', 'style__fashion.womens', 'style__fashion.fashion_designers'])\n 'article' True 'https://in.pinterest.com/gmunglani/indian-fashion.']\n['j2wVILgTZ6O5bXwmDWPMAQ_pinterest' 'Pinterest'\n list(['automotive__vehicle.cars.luxury_cars', 'style__fashion.jewelery', 'style__fashion.womens'])\n 'article' True 'https://in.pinterest.com/gmunglani/jewellery.rss']\n['j2wVILgTZ6O5bXwmDWPMAQ_pinterest' 'Pinterest'\n list(['automotive__vehicles.cars.luxury_cars', 'automotive__vehicle.cars.luxury_cars'])\n 'image' True 'https://in.pinterest.com/VardaiDesign/supercar.rss']\n['j2wVILgTZ6O5bXwmDWPMAQ_pinterest' 'Pinterest'\n list(['automotive__vehicles.cars.luxury_cars', 'automotive__vehicle.cars.luxury_cars'])\n 'image' True 'https://in.pinterest.com/grahammylett/supercars.rss']\n['j2wVILgTZ6O5bXwmDWPMAQ_pinterest' 'Pinterest'\n list(['automotive__vehicle.cars.luxury_cars', 'science.physics.space__astronomy'])\n 'image' True\n 'https://in.pinterest.com/nonstopdiys/space-and-astronomy.rss']\n['j2wVILgTZ6O5bXwmDWPMAQ_pinterest' 'Pinterest'\n list(['society.lifestyle', 'travel.adventure', 'automotive__vehicle.cars.luxury_cars', 'society.life', 'travel'])\n 'image' True 'https://in.pinterest.com/carajourdan/travel.rss']\n['zKEXrXjVkp48a4SNAWc9AQ_the supercar blog' 'The SuperCar Blog'\n list(['automotive__vehicle.cars.luxury_cars']) 'article' False\n 'https://www.thesupercarblog.com/feed/']\n"
     ]
    }
   ],
   "source": [
    "tag = \"automotive__vehicle.cars.luxury_cars\"\n",
    "for value in df.values:\n",
    "    if  tag in value[2]:\n",
    "        print(value)"
   ]
  },
  {
   "cell_type": "code",
   "execution_count": null,
   "metadata": {},
   "outputs": [],
   "source": []
  },
  {
   "cell_type": "code",
   "execution_count": null,
   "metadata": {},
   "outputs": [],
   "source": []
  }
 ],
 "metadata": {
  "kernelspec": {
   "name": "python385jvsc74a57bd0009e665c79fbfc8313dad4bf6cdcdc4549aaea5605537677d74b0784ff1d5538",
   "display_name": "Python 3.8.5 64-bit ('k11': venv)",
   "language": "python"
  },
  "interpreter": {
   "hash": "009e665c79fbfc8313dad4bf6cdcdc4549aaea5605537677d74b0784ff1d5538"
  }
 },
 "nbformat": 4,
 "nbformat_minor": 4
}